{
 "cells": [
  {
   "cell_type": "code",
   "execution_count": 1,
   "metadata": {},
   "outputs": [],
   "source": [
    "import numpy as np\n",
    "import matplotlib.pyplot as plt"
   ]
  },
  {
   "cell_type": "markdown",
   "metadata": {},
   "source": [
    "**Định nghĩa hàm loss**"
   ]
  },
  {
   "cell_type": "code",
   "execution_count": 2,
   "metadata": {},
   "outputs": [],
   "source": [
    "def loss(theta):\n",
    "    return theta**2 - 4*theta + 10 # (theta-2)^2 + 6"
   ]
  },
  {
   "cell_type": "markdown",
   "metadata": {},
   "source": [
    "**Định nghĩa đạo hàm của hàm loss**"
   ]
  },
  {
   "cell_type": "code",
   "execution_count": 3,
   "metadata": {},
   "outputs": [],
   "source": [
    "def der_loss(theta):\n",
    "    return 2**theta - 4"
   ]
  },
  {
   "cell_type": "markdown",
   "metadata": {},
   "source": [
    "**Vẽ biểu đồ của hàm loss**"
   ]
  },
  {
   "cell_type": "code",
   "execution_count": 4,
   "metadata": {},
   "outputs": [
    {
     "data": {
      "image/png": "[encoded data removed]",
      "text/plain": [
       "<Figure size 432x288 with 1 Axes>"
      ]
     },
     "metadata": {
      "needs_background": "light"
     },
     "output_type": "display_data"
    }
   ],
   "source": [
    "theta_arr = np.arange(-4, 8, 0.1)\n",
    "loss_arr = loss(theta_arr)\n",
    "plt.plot(theta_arr, loss_arr)\n",
    "plt.show()"
   ]
  },
  {
   "cell_type": "markdown",
   "metadata": {},
   "source": [
    "**Khởi tạo tham số theta, alpha và epsilon**"
   ]
  },
  {
   "cell_type": "code",
   "execution_count": 5,
   "metadata": {},
   "outputs": [],
   "source": [
    "theta = -10\n",
    "alpha = 0.01\n",
    "epsilon = 0.0001"
   ]
  },
  {
   "cell_type": "markdown",
   "metadata": {},
   "source": [
    "**Lặp<br>\n",
    "Cập nhật tham số theta**: đạo hàm có thể âm, còn epsilon thì luôn dương, mà ta lại cần đạo hàm có giá trị tuyệt đối nhỏ nhất có thể, nên cần phải lấy abs của đạo hàm để có thể tìm đúng điểm dừng<br>\n",
    "**Tìm điểm dừng<br>**"
   ]
  },
  {
   "cell_type": "code",
   "execution_count": 6,
   "metadata": {},
   "outputs": [
    {
     "data": {
      "image/png": "[encoded data removed]",
      "text/plain": [
       "<Figure size 432x288 with 1 Axes>"
      ]
     },
     "metadata": {
      "needs_background": "light"
     },
     "output_type": "display_data"
    }
   ],
   "source": [
    "while True:\n",
    "    theta = theta - alpha*der_loss(theta)\n",
    "    \n",
    "    plt.plot(theta, loss(theta), 'ro')\n",
    "#     plt.pause(0.5)\n",
    "    \n",
    "    if abs(der_loss(theta)) < epsilon: \n",
    "        break\n",
    "        \n",
    "plt.show()"
   ]
  },
  {
   "cell_type": "markdown",
   "metadata": {},
   "source": [
    "**In kết quả**<br>\n",
    "Vì khó có thể đạt được theta* (theta tối ưu) nên ta chỉ cần tìm theta sao cho đạo hàm của hàm loss có giá trị nhỏ gần đủ (nhỏ hơn epsilon)"
   ]
  },
  {
   "cell_type": "code",
   "execution_count": 8,
   "metadata": {},
   "outputs": [
    {
     "name": "stdout",
     "output_type": "stream",
     "text": [
      "Theta tối ưu hiện tại:  1.999964069043646\n",
      "Giá trị của hàm loss với tham số theta trên:  6.000000001291033\n"
     ]
    }
   ],
   "source": [
    "print(\"Theta tối ưu hiện tại: \", theta)\n",
    "print(\"Giá trị của hàm loss với tham số theta trên: \", loss(theta))"
   ]
  },
  {
   "cell_type": "code",
   "execution_count": null,
   "metadata": {},
   "outputs": [],
   "source": []
  }
 ],
 "metadata": {
  "kernelspec": {
   "display_name": "Python 3",
   "language": "python",
   "name": "python3"
  },
  "language_info": {
   "codemirror_mode": {
    "name": "ipython",
    "version": 3
   },
   "file_extension": ".py",
   "mimetype": "text/x-python",
   "name": "python",
   "nbconvert_exporter": "python",
   "pygments_lexer": "ipython3",
   "version": "3.8.5"
  }
 },
 "nbformat": 4,
 "nbformat_minor": 4
}
