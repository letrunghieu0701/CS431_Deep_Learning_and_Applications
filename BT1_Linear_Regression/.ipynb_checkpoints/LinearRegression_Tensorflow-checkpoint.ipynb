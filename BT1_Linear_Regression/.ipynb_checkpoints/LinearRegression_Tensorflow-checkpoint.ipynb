{
 "cells": [
  {
   "cell_type": "code",
   "execution_count": 54,
   "metadata": {
    "id": "7qcN5J2FdRNP"
   },
   "outputs": [],
   "source": [
    "import numpy as np\n",
    "import matplotlib.pyplot as plt\n",
    "import tensorflow as tf"
   ]
  },
  {
   "cell_type": "markdown",
   "metadata": {
    "id": "k7vjfYl5h5sk"
   },
   "source": [
    "**Create training data**"
   ]
  },
  {
   "cell_type": "code",
   "execution_count": 55,
   "metadata": {
    "id": "Nf2p7z57h9mf",
    "scrolled": true
   },
   "outputs": [
    {
     "data": {
      "text/plain": [
       "<function matplotlib.pyplot.show(close=None, block=None)>"
      ]
     },
     "execution_count": 55,
     "metadata": {},
     "output_type": "execute_result"
    },
    {
     "data": {
      "image/png": "[encoded data removed]",
      "text/plain": [
       "<Figure size 432x288 with 1 Axes>"
      ]
     },
     "metadata": {
      "needs_background": "light"
     },
     "output_type": "display_data"
    }
   ],
   "source": [
    "x = np.arange(-10, 10, 0.1)\n",
    "n_sample = len(x)\n",
    "\n",
    "noise = np.random.normal(0, 2, n_sample)\n",
    "Y = 2*x - 7 + noise\n",
    "\n",
    "# Vectorize X\n",
    "ones = np.ones(n_sample)\n",
    "X = np.vstack((ones, x)).astype('float32') # Stack arrays in sequence vertically\n",
    "\n",
    "# Use the below line in Jupyter Notebook to view the plot inside notebook, it doesn't work in Google Colab\n",
    "%matplotlib inline\n",
    "plt.plot(x, Y, \"ro\")\n",
    "plt.show"
   ]
  },
  {
   "cell_type": "markdown",
   "metadata": {
    "id": "TpEzTc1YdsVE"
   },
   "source": [
    "**Set value:** theta<br>\n",
    "**Define:** loss function<br>\n",
    "**Note:** Do not define the derivative of the loss function because tensorflow will take the derivative by itself"
   ]
  },
  {
   "cell_type": "code",
   "execution_count": 56,
   "metadata": {
    "id": "1G81SewddqlW"
   },
   "outputs": [],
   "source": [
    "theta = tf.Variable(np.array([[-15.0],  # theta_0\n",
    "                              [12.0]],  # theta_1\n",
    "                             dtype=np.double) \n",
    ")\n",
    "\n",
    "loss = lambda: tf.reduce_mean(tf.square(tf.matmul(tf.transpose(theta), X) - Y))"
   ]
  },
  {
   "cell_type": "markdown",
   "metadata": {
    "id": "zoRiGPezeZ2P"
   },
   "source": [
    "**Loop:**<br>\n",
    "<span style=\"margin-left:2em\">Update theta</span><br>"
   ]
  },
  {
   "cell_type": "code",
   "execution_count": 57,
   "metadata": {
    "id": "U4mCK67ceYEr"
   },
   "outputs": [],
   "source": [
    "opt = tf.keras.optimizers.SGD(learning_rate=0.01)\n",
    "\n",
    "for i in range(700):\n",
    "    opt.minimize(loss, var_list=theta)"
   ]
  },
  {
   "cell_type": "markdown",
   "metadata": {
    "id": "qaIyBaRsea4W"
   },
   "source": [
    "**Result:** theta after running Linear Regression<br>\n",
    "**Note:** The algorithm runs **correctly** when **theta_1** and **theta_0** values **approximate** the **weight** and **bias** values of the line equation in the training data generation part."
   ]
  },
  {
   "cell_type": "code",
   "execution_count": 58,
   "metadata": {
    "colab": {
     "base_uri": "https://localhost:8080/"
    },
    "id": "PXcmsRzCei7d",
    "outputId": "9b9c7744-3245-4f66-87e2-8e8584380b1f"
   },
   "outputs": [
    {
     "name": "stdout",
     "output_type": "stream",
     "text": [
      "Current optimal value of theta_1:  1.9915619076567863\n",
      "Current optimal value of theta_0:  -7.093989780910738\n"
     ]
    }
   ],
   "source": [
    "print(\"Current optimal value of theta_1: \", theta[1][0].numpy())\n",
    "print(\"Current optimal value of theta_0: \", theta[0][0].numpy())"
   ]
  },
  {
   "cell_type": "code",
   "execution_count": null,
   "metadata": {
    "id": "NdeUCU9LgvGc"
   },
   "outputs": [],
   "source": []
  }
 ],
 "metadata": {
  "colab": {
   "collapsed_sections": [],
   "name": "LinearRegression_Tensorflow.ipynb",
   "provenance": []
  },
  "kernelspec": {
   "display_name": "Python 3",
   "language": "python",
   "name": "python3"
  },
  "language_info": {
   "codemirror_mode": {
    "name": "ipython",
    "version": 3
   },
   "file_extension": ".py",
   "mimetype": "text/x-python",
   "name": "python",
   "nbconvert_exporter": "python",
   "pygments_lexer": "ipython3",
   "version": "3.8.5"
  }
 },
 "nbformat": 4,
 "nbformat_minor": 1
}
