{
 "cells": [
  {
   "cell_type": "code",
   "execution_count": 2,
   "metadata": {},
   "outputs": [],
   "source": [
    "import numpy as np\n",
    "import matplotlib.pyplot as plt"
   ]
  },
  {
   "cell_type": "markdown",
   "metadata": {},
   "source": [
    "**Create training data**"
   ]
  },
  {
   "cell_type": "code",
   "execution_count": 3,
   "metadata": {},
   "outputs": [
    {
     "data": {
      "text/plain": [
       "<function matplotlib.pyplot.show(close=None, block=None)>"
      ]
     },
     "execution_count": 3,
     "metadata": {},
     "output_type": "execute_result"
    },
    {
     "data": {
      "image/png": "[encoded data removed]",
      "text/plain": [
       "<Figure size 432x288 with 1 Axes>"
      ]
     },
     "metadata": {
      "needs_background": "light"
     },
     "output_type": "display_data"
    }
   ],
   "source": [
    "x = np.arange(-10, 10, 0.1)\n",
    "n_sample = len(x)\n",
    "ones = np.ones(n_sample)\n",
    "X = np.vstack((ones, x)) # Stack arrays in sequence vertically\n",
    "\n",
    "noise = np.random.normal(0, 2, n_sample)\n",
    "Y = 2*x - 7 + noise\n",
    "\n",
    "# Use the below line in Jupyter Notebook to view the plot inside notebook, it doesn't work in Google Colab\n",
    "%matplotlib inline\n",
    "plt.plot(x, Y, \"ro\")\n",
    "plt.show"
   ]
  },
  {
   "cell_type": "markdown",
   "metadata": {},
   "source": [
    "**Set value for these parameters:**<br>\n",
    "theta0, theta1, alpha and epsilon"
   ]
  },
  {
   "cell_type": "code",
   "execution_count": 13,
   "metadata": {},
   "outputs": [],
   "source": [
    "theta = np.array([[-15],  # theta_0\n",
    "                  [12]])  # theta_1\n",
    "alpha = 0.01\n",
    "epsilon = 0.001"
   ]
  },
  {
   "cell_type": "markdown",
   "metadata": {},
   "source": [
    "**Loop:**<br>\n",
    "<span style=\"margin-left:2em\">Update theta</span><br>\n",
    "<span style=\"margin-left:2em\">Stopping condition</span>"
   ]
  },
  {
   "cell_type": "code",
   "execution_count": null,
   "metadata": {
    "collapsed": true
   },
   "outputs": [
    {
     "name": "stdout",
     "output_type": "stream",
     "text": [
      "Epoch: 1   Der_theta 1_0: 222.41644335 -8.26171737   Theta_1_0: 8.66360609 -14.91486326\n",
      "Epoch: 2   Der_theta 1_0: 148.26979110 -8.06789197   Theta_1_0: 6.43944165 -14.83224609\n",
      "Epoch: 3   Der_theta 1_0: 98.84002229 -7.91307816   Theta_1_0: 4.95674374 -14.75156717\n",
      "Epoch: 4   Der_theta 1_0: 65.88774432 -7.78452737   Theta_1_0: 3.96834352 -14.67243639\n",
      "Epoch: 5   Der_theta 1_0: 43.92017249 -7.67373822   Theta_1_0: 3.30946608 -14.59459111\n",
      "Epoch: 6   Der_theta 1_0: 29.27554612 -7.57504075   Theta_1_0: 2.87026435 -14.51785373\n",
      "Epoch: 7   Der_theta 1_0: 19.51275530 -7.48465257   Theta_1_0: 2.57750889 -14.44210332\n",
      "Epoch: 8   Der_theta 1_0: 13.00443599 -7.40004967   Theta_1_0: 2.38238134 -14.36725680\n",
      "Epoch: 9   Der_theta 1_0: 8.66570723 -7.31954695   Theta_1_0: 2.25233698 -14.29325630\n",
      "Epoch: 10   Der_theta 1_0: 5.77333395 -7.24201863   Theta_1_0: 2.16567991 -14.22006083\n",
      "Epoch: 11   Der_theta 1_0: 3.84517207 -7.16671178   Theta_1_0: 2.10794657 -14.14764065\n",
      "Epoch: 12   Der_theta 1_0: 2.55980060 -7.09312207   Theta_1_0: 2.06949485 -14.07597353\n",
      "Epoch: 13   Der_theta 1_0: 1.70294451 -7.02091095   Theta_1_0: 2.04389684 -14.00504231\n",
      "Epoch: 14   Der_theta 1_0: 1.13175750 -6.94985037   Theta_1_0: 2.02686739 -13.93483320\n",
      "Epoch: 15   Der_theta 1_0: 0.75101121 -6.87978599   Theta_1_0: 2.01554982 -13.86533469\n",
      "Epoch: 16   Der_theta 1_0: 0.49722173 -6.81061262   Theta_1_0: 2.00803971 -13.79653683\n",
      "Epoch: 17   Der_theta 1_0: 0.32806756 -6.74225789   Theta_1_0: 2.00306749 -13.72843071\n",
      "Epoch: 18   Der_theta 1_0: 0.21533511 -6.67467127   Theta_1_0: 1.99978681 -13.66100813\n",
      "Epoch: 19   Der_theta 1_0: 0.14021582 -6.60781689   Theta_1_0: 1.99763346 -13.59426142\n",
      "Epoch: 20   Der_theta 1_0: 0.09017097 -6.54166862   Theta_1_0: 1.99623130 -13.52818325\n",
      "Epoch: 21   Der_theta 1_0: 0.05684164 -6.47620684   Theta_1_0: 1.99532960 -13.46276656\n",
      "Epoch: 22   Der_theta 1_0: 0.03465538 -6.41141635   Theta_1_0: 1.99476118 -13.39800449\n",
      "Epoch: 23   Der_theta 1_0: 0.01989730 -6.34728486   Theta_1_0: 1.99441462 -13.33389033\n",
      "Epoch: 24   Der_theta 1_0: 0.01009089 -6.28380207   Theta_1_0: 1.99421565 -13.27041748\n",
      "Epoch: 25   Der_theta 1_0: 0.00358519 -6.22095900   Theta_1_0: 1.99411474 -13.20757946\n",
      "Epoch: 26   Der_theta 1_0: -0.00072041 -6.15874762   Theta_1_0: 1.99407889 -13.14536987\n",
      "Epoch: 27   Der_theta 1_0: -0.00355964 -6.09716050   Theta_1_0: 1.99408610 -13.08378239\n",
      "Epoch: 28   Der_theta 1_0: -0.00542161 -6.03619068   Theta_1_0: 1.99412169 -13.02281079\n",
      "Epoch: 29   Der_theta 1_0: -0.00663241 -5.97583148   Theta_1_0: 1.99417591 -12.96244888\n",
      "Epoch: 30   Der_theta 1_0: -0.00740941 -5.91607648   Theta_1_0: 1.99424223 -12.90269057\n",
      "Epoch: 31   Der_theta 1_0: -0.00789752 -5.85691942   Theta_1_0: 1.99431633 -12.84352980\n",
      "Epoch: 32   Der_theta 1_0: -0.00819334 -5.79835418   Theta_1_0: 1.99439530 -12.78496061\n",
      "Epoch: 33   Der_theta 1_0: -0.00836127 -5.74037473   Theta_1_0: 1.99447723 -12.72697707\n",
      "Epoch: 34   Der_theta 1_0: -0.00844423 -5.68297516   Theta_1_0: 1.99456085 -12.66957332\n",
      "Epoch: 35   Der_theta 1_0: -0.00847083 -5.62614964   Theta_1_0: 1.99464529 -12.61274357\n",
      "Epoch: 36   Der_theta 1_0: -0.00846016 -5.56989237   Theta_1_0: 1.99473000 -12.55648207\n",
      "Epoch: 37   Der_theta 1_0: -0.00842491 -5.51419768   Theta_1_0: 1.99481460 -12.50078315\n",
      "Epoch: 38   Der_theta 1_0: -0.00837356 -5.45905992   Theta_1_0: 1.99489885 -12.44564117\n",
      "Epoch: 39   Der_theta 1_0: -0.00831177 -5.40447350   Theta_1_0: 1.99498258 -12.39105057\n",
      "Epoch: 40   Der_theta 1_0: -0.00824328 -5.35043292   Theta_1_0: 1.99506570 -12.33700584\n",
      "Epoch: 41   Der_theta 1_0: -0.00817060 -5.29693272   Theta_1_0: 1.99514813 -12.28350151\n",
      "Epoch: 42   Der_theta 1_0: -0.00809539 -5.24396748   Theta_1_0: 1.99522984 -12.23053218\n",
      "Epoch: 43   Der_theta 1_0: -0.00801878 -5.19153185   Theta_1_0: 1.99531079 -12.17809250\n",
      "Epoch: 44   Der_theta 1_0: -0.00794148 -5.13962054   Theta_1_0: 1.99539098 -12.12617719\n",
      "Epoch: 45   Der_theta 1_0: -0.00786400 -5.08822830   Theta_1_0: 1.99547040 -12.07478098\n",
      "Epoch: 46   Der_theta 1_0: -0.00778665 -5.03734995   Theta_1_0: 1.99554904 -12.02389870\n",
      "Epoch: 47   Der_theta 1_0: -0.00770965 -4.98698035   Theta_1_0: 1.99562690 -11.97352520\n",
      "Epoch: 48   Der_theta 1_0: -0.00763313 -4.93711440   Theta_1_0: 1.99570400 -11.92365539\n",
      "Epoch: 49   Der_theta 1_0: -0.00755718 -4.88774707   Theta_1_0: 1.99578033 -11.87428425\n",
      "Epoch: 50   Der_theta 1_0: -0.00748187 -4.83887338   Theta_1_0: 1.99585590 -11.82540678\n",
      "Epoch: 51   Der_theta 1_0: -0.00740722 -4.79048839   Theta_1_0: 1.99593072 -11.77701805\n",
      "Epoch: 52   Der_theta 1_0: -0.00733327 -4.74258721   Theta_1_0: 1.99600479 -11.72911316\n",
      "Epoch: 53   Der_theta 1_0: -0.00726002 -4.69516500   Theta_1_0: 1.99607813 -11.68168729\n",
      "Epoch: 54   Der_theta 1_0: -0.00718747 -4.64821698   Theta_1_0: 1.99615073 -11.63473564\n",
      "Epoch: 55   Der_theta 1_0: -0.00711564 -4.60173840   Theta_1_0: 1.99622260 -11.58825347\n",
      "Epoch: 56   Der_theta 1_0: -0.00704451 -4.55572458   Theta_1_0: 1.99629376 -11.54223609\n",
      "Epoch: 57   Der_theta 1_0: -0.00697408 -4.51017085   Theta_1_0: 1.99636420 -11.49667884\n",
      "Epoch: 58   Der_theta 1_0: -0.00690436 -4.46507263   Theta_1_0: 1.99643394 -11.45157713\n",
      "Epoch: 59   Der_theta 1_0: -0.00683533 -4.42042536   Theta_1_0: 1.99650299 -11.40692641\n",
      "Epoch: 60   Der_theta 1_0: -0.00676698 -4.37622452   Theta_1_0: 1.99657134 -11.36272215\n",
      "Epoch: 61   Der_theta 1_0: -0.00669932 -4.33246566   Theta_1_0: 1.99663901 -11.31895991\n",
      "Epoch: 62   Der_theta 1_0: -0.00663234 -4.28914435   Theta_1_0: 1.99670600 -11.27563525\n",
      "Epoch: 63   Der_theta 1_0: -0.00656602 -4.24625623   Theta_1_0: 1.99677233 -11.23274381\n",
      "Epoch: 64   Der_theta 1_0: -0.00650036 -4.20379695   Theta_1_0: 1.99683799 -11.19028124\n",
      "Epoch: 65   Der_theta 1_0: -0.00643537 -4.16176223   Theta_1_0: 1.99690299 -11.14824328\n",
      "Epoch: 66   Der_theta 1_0: -0.00637102 -4.12014782   Theta_1_0: 1.99696734 -11.10662565\n",
      "Epoch: 67   Der_theta 1_0: -0.00630731 -4.07894953   Theta_1_0: 1.99703106 -11.06542417\n",
      "Epoch: 68   Der_theta 1_0: -0.00624425 -4.03816319   Theta_1_0: 1.99709413 -11.02463468\n",
      "Epoch: 69   Der_theta 1_0: -0.00618181 -3.99778468   Theta_1_0: 1.99715657 -10.98425305\n",
      "Epoch: 70   Der_theta 1_0: -0.00611999 -3.95780992   Theta_1_0: 1.99721839 -10.94427520\n",
      "Epoch: 71   Der_theta 1_0: -0.00605880 -3.91823488   Theta_1_0: 1.99727959 -10.90469710\n",
      "Epoch: 72   Der_theta 1_0: -0.00599822 -3.87905557   Theta_1_0: 1.99734018 -10.86551475\n",
      "Epoch: 73   Der_theta 1_0: -0.00593824 -3.84026801   Theta_1_0: 1.99740016 -10.82672420\n",
      "Epoch: 74   Der_theta 1_0: -0.00587886 -3.80186830   Theta_1_0: 1.99745954 -10.78832152\n",
      "Epoch: 75   Der_theta 1_0: -0.00582008 -3.76385255   Theta_1_0: 1.99751833 -10.75030283\n",
      "Epoch: 76   Der_theta 1_0: -0.00576188 -3.72621694   Theta_1_0: 1.99757653 -10.71266431\n",
      "Epoch: 77   Der_theta 1_0: -0.00570427 -3.68895765   Theta_1_0: 1.99763415 -10.67540214\n",
      "Epoch: 78   Der_theta 1_0: -0.00564723 -3.65207093   Theta_1_0: 1.99769119 -10.63851256\n",
      "Epoch: 79   Der_theta 1_0: -0.00559076 -3.61555304   Theta_1_0: 1.99774766 -10.60199185\n",
      "Epoch: 80   Der_theta 1_0: -0.00553486 -3.57940031   Theta_1_0: 1.99780357 -10.56583632\n",
      "Epoch: 81   Der_theta 1_0: -0.00547951 -3.54360907   Theta_1_0: 1.99785892 -10.53004232\n",
      "Epoch: 82   Der_theta 1_0: -0.00542472 -3.50817572   Theta_1_0: 1.99791372 -10.49460623\n",
      "Epoch: 83   Der_theta 1_0: -0.00537048 -3.47309667   Theta_1_0: 1.99796796 -10.45952447\n"
     ]
    }
   ],
   "source": [
    "# Use the below line in Jupyter Notebook to view the plot with interactive window, it doesn't work in Google Colab\n",
    "%matplotlib qt\n",
    "plt.xlim(-15, 15)\n",
    "plt.ylim(-30, 22)\n",
    "\n",
    "plt.plot(x, Y, \"ro\")\n",
    "\n",
    "epoch = 400\n",
    "count_epoch = 1\n",
    "while True:\n",
    "    # Update theta\n",
    "    nabla = (1.0/n_sample) * np.dot(X, (np.dot(theta.T, X) - Y).T)\n",
    "    theta = theta - alpha*nabla\n",
    "    \n",
    "    # Draw a line using theta to see how the algorithm is doing\n",
    "    x_vis = np.array([-8.0, 8.0])\n",
    "    y_vis = theta[1][0]*x_vis + theta[0][0]\n",
    "    plt.plot(x_vis, y_vis)\n",
    "    plt.pause(0.001)\n",
    "    \n",
    "    # Stopping condition\n",
    "    nabla = (1.0/n_sample) * np.dot(X, (np.dot(theta.T, X) - Y).T)\n",
    "    print(\"Epoch: %d   Der_theta_1_0: %.8f %.8f   Theta_1_0: %.8f %.8f\" % (count_epoch, nabla[1][0], nabla[0][0], theta[1][0], theta[0][0]))\n",
    "    # Check if all values in loss is less than epsilon\n",
    "    # It will probably take a long time to satisfy the above condition, so we will have to use epoch\n",
    "    if (abs(nabla[0][0]) < epsilon) and (abs(nabla[1][0]) < epsilon) or count_epoch == epoch:\n",
    "        break\n",
    "    count_epoch += 1"
   ]
  },
  {
   "cell_type": "markdown",
   "metadata": {},
   "source": [
    "**Result:** theta after running Linear Regression<br>\n",
    "**Note:** The algorithm runs **correctly** when **theta_1** and **theta_0** values **approximate** the **weight** and **bias** values of the line equation in the training data generation part."
   ]
  },
  {
   "cell_type": "code",
   "execution_count": 10,
   "metadata": {},
   "outputs": [
    {
     "name": "stdout",
     "output_type": "stream",
     "text": [
      "Current optimal value of theta_1: 1.987187499759827\n",
      "Current optimal value of theta_0: -7.244240108080051\n"
     ]
    }
   ],
   "source": [
    "print(f\"Current optimal value of theta_1: {theta[1][0]}\")\n",
    "print(f\"Current optimal value of theta_0: {theta[0][0]}\")"
   ]
  },
  {
   "cell_type": "code",
   "execution_count": null,
   "metadata": {},
   "outputs": [],
   "source": []
  }
 ],
 "metadata": {
  "kernelspec": {
   "display_name": "Python 3",
   "language": "python",
   "name": "python3"
  },
  "language_info": {
   "codemirror_mode": {
    "name": "ipython",
    "version": 3
   },
   "file_extension": ".py",
   "mimetype": "text/x-python",
   "name": "python",
   "nbconvert_exporter": "python",
   "pygments_lexer": "ipython3",
   "version": "3.8.5"
  }
 },
 "nbformat": 4,
 "nbformat_minor": 4
}
