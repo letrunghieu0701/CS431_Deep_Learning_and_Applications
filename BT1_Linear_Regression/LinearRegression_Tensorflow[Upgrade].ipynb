{
 "cells": [
  {
   "cell_type": "code",
   "execution_count": 1,
   "metadata": {
    "id": "7qcN5J2FdRNP"
   },
   "outputs": [],
   "source": [
    "import numpy as np\n",
    "import matplotlib.pyplot as plt\n",
    "import tensorflow as tf\n",
    "%matplotlib qt"
   ]
  },
  {
   "cell_type": "markdown",
   "metadata": {
    "id": "k7vjfYl5h5sk"
   },
   "source": [
    "**Create training data**"
   ]
  },
  {
   "cell_type": "code",
   "execution_count": 2,
   "metadata": {
    "id": "Nf2p7z57h9mf"
   },
   "outputs": [
    {
     "data": {
      "text/plain": [
       "<function matplotlib.pyplot.show(close=None, block=None)>"
      ]
     },
     "execution_count": 2,
     "metadata": {},
     "output_type": "execute_result"
    },
    {
     "data": {
      "image/png": "[encoded data removed]",
      "text/plain": [
       "<Figure size 432x288 with 1 Axes>"
      ]
     },
     "metadata": {
      "needs_background": "light"
     },
     "output_type": "display_data"
    }
   ],
   "source": [
    "x = np.arange(-10, 10, 0.1)\n",
    "n_sample = len(x)\n",
    "\n",
    "noise = np.random.normal(0, 2, n_sample)\n",
    "Y = 2*x - 7 + noise\n",
    "\n",
    "# Vectorize X\n",
    "ones = np.ones(n_sample)\n",
    "X = np.vstack((ones, x)).astype('float32') # Stack arrays in sequence vertically\n",
    "\n",
    "# Use the below line in Jupyter Notebook to view the plot inside notebook, it doesn't work in Google Colab\n",
    "%matplotlib inline\n",
    "plt.plot(x, Y, \"ro\")\n",
    "plt.show"
   ]
  },
  {
   "cell_type": "markdown",
   "metadata": {
    "id": "TpEzTc1YdsVE"
   },
   "source": [
    "**Set value:** theta<br>\n",
    "**Define:** loss function<br>\n",
    "**Note:** Do not define the derivative of the loss function because tensorflow will take the derivative by itself"
   ]
  },
  {
   "cell_type": "code",
   "execution_count": 3,
   "metadata": {
    "id": "1G81SewddqlW"
   },
   "outputs": [],
   "source": [
    "\n",
    "epsilon = 0.001\n",
    "\n",
    "@tf.function\n",
    "def Loss(theta):\n",
    "    Y_pre = tf.matmul(tf.transpose(theta), X)\n",
    "    return tf.reduce_mean(tf.square(Y_pre - Y))"
   ]
  },
  {
   "cell_type": "markdown",
   "metadata": {
    "id": "zoRiGPezeZ2P"
   },
   "source": [
    "**Loop:**<br>\n",
    "<span style=\"margin-left:2em\">Update theta</span><br>"
   ]
  },
  {
   "cell_type": "code",
   "execution_count": 18,
   "metadata": {},
   "outputs": [
    {
     "name": "stdout",
     "output_type": "stream",
     "text": [
      "tf.Tensor(3406.4382, shape=(), dtype=float32)\n",
      "<tf.Variable 'Variable:0' shape=(2, 1) dtype=float32, numpy=\n",
      "array([[-15.],\n",
      "       [ 12.]], dtype=float32)>\n",
      "[<tf.Tensor: shape=(2, 1), dtype=float32, numpy=\n",
      "array([[-16.56818],\n",
      "       [667.4586 ]], dtype=float32)>]\n"
     ]
    }
   ],
   "source": [
    "theta = tf.Variable(np.array([[-15.0], # theta_0\n",
    "                              [12.0]], # theta_1\n",
    "                             dtype=np.float32),\n",
    "                    trainable=True\n",
    ")\n",
    "\n",
    "with tf.GradientTape() as tape:\n",
    "    loss = Loss(theta)\n",
    "    print(loss)\n",
    "\n",
    "\n",
    "print(theta)\n",
    "grads = tape.gradient(loss, [theta])\n",
    "print(grads)"
   ]
  },
  {
   "cell_type": "code",
   "execution_count": 19,
   "metadata": {},
   "outputs": [
    {
     "name": "stdout",
     "output_type": "stream",
     "text": [
      "tf.Tensor(3406.4382, shape=(), dtype=float32)\n",
      "<tf.Variable 'Variable:0' shape=(2, 1) dtype=float32, numpy=\n",
      "array([[-15.],\n",
      "       [ 12.]], dtype=float32)>\n",
      "[<tf.Tensor: shape=(2, 1), dtype=float32, numpy=\n",
      "array([[-16.56818],\n",
      "       [667.4586 ]], dtype=float32)>]\n"
     ]
    }
   ],
   "source": [
    "# W = tf.Variable(np.array([[1], [2]]).astype('float32'), trainable=True)\n",
    "W = tf.Variable(np.array([[-15.0], [12.0]], dtype=np.float32))\n",
    "\n",
    "with tf.GradientTape() as tape_2:\n",
    "    loss = Loss(W)\n",
    "    print(loss)\n",
    "\n",
    "\n",
    "print(W)\n",
    "grads = tape_2.gradient(loss, [W])\n",
    "print(grads)"
   ]
  },
  {
   "cell_type": "code",
   "execution_count": 4,
   "metadata": {
    "colab": {
     "base_uri": "https://localhost:8080/"
    },
    "id": "U4mCK67ceYEr",
    "outputId": "d01d8f9c-2892-466c-b17d-ccdb84f8cf3a"
   },
   "outputs": [
    {
     "name": "stdout",
     "output_type": "stream",
     "text": [
      "Loss:\n",
      " tf.Tensor(3399.776, shape=(), dtype=float32)\n",
      "theta:\n",
      " <tf.Variable 'Variable:0' shape=(2, 1) dtype=float32, numpy=\n",
      "array([[-15.],\n",
      "       [ 12.]], dtype=float32)>\n",
      "Epoch: 1   Loss 3399.77587891   Theta_1_0: 5.33287287 -14.83181095\n",
      "Loss:\n",
      " tf.Tensor(433.7896, shape=(), dtype=float32)\n",
      "theta:\n",
      " <tf.Variable 'Variable:0' shape=(2, 1) dtype=float32, numpy=\n",
      "array([[-14.831811],\n",
      "       [  5.332873]], dtype=float32)>\n",
      "Epoch: 2   Loss 433.78961182   Theta_1_0: 3.11088753 -14.67365265\n",
      "Loss:\n",
      " tf.Tensor(102.20863, shape=(), dtype=float32)\n",
      "theta:\n",
      " <tf.Variable 'Variable:0' shape=(2, 1) dtype=float32, numpy=\n",
      "array([[-14.673653 ],\n",
      "       [  3.1108875]], dtype=float32)>\n",
      "Epoch: 3   Loss 102.20863342   Theta_1_0: 2.37045813 -14.52087975\n",
      "Loss:\n",
      " tf.Tensor(63.361183, shape=(), dtype=float32)\n",
      "theta:\n",
      " <tf.Variable 'Variable:0' shape=(2, 1) dtype=float32, numpy=\n",
      "array([[-14.52088  ],\n",
      "       [  2.3704581]], dtype=float32)>\n",
      "Epoch: 4   Loss 63.36118317   Theta_1_0: 2.12382579 -14.37190247\n",
      "Loss:\n",
      " tf.Tensor(57.112553, shape=(), dtype=float32)\n",
      "theta:\n",
      " <tf.Variable 'Variable:0' shape=(2, 1) dtype=float32, numpy=\n",
      "array([[-14.371902 ],\n",
      "       [  2.1238258]], dtype=float32)>\n",
      "Epoch: 5   Loss 57.11255264   Theta_1_0: 2.04177213 -14.22615147\n",
      "Loss:\n",
      " tf.Tensor(54.561817, shape=(), dtype=float32)\n",
      "theta:\n",
      " <tf.Variable 'Variable:0' shape=(2, 1) dtype=float32, numpy=\n",
      "array([[-14.226151 ],\n",
      "       [  2.0417721]], dtype=float32)>\n",
      "Epoch: 6   Loss 54.56181717   Theta_1_0: 2.01456928 -14.08339787\n",
      "Loss:\n",
      " tf.Tensor(52.495384, shape=(), dtype=float32)\n",
      "theta:\n",
      " <tf.Variable 'Variable:0' shape=(2, 1) dtype=float32, numpy=\n",
      "array([[-14.083398 ],\n",
      "       [  2.0145693]], dtype=float32)>\n",
      "Epoch: 7   Loss 52.49538422   Theta_1_0: 2.00564528 -13.94352627\n",
      "Loss:\n",
      " tf.Tensor(50.55336, shape=(), dtype=float32)\n",
      "theta:\n",
      " <tf.Variable 'Variable:0' shape=(2, 1) dtype=float32, numpy=\n",
      "array([[-13.943526 ],\n",
      "       [  2.0056453]], dtype=float32)>\n",
      "Epoch: 8   Loss 50.55335999   Theta_1_0: 2.00281096 -13.80646133\n",
      "Loss:\n",
      " tf.Tensor(48.69296, shape=(), dtype=float32)\n",
      "theta:\n",
      " <tf.Variable 'Variable:0' shape=(2, 1) dtype=float32, numpy=\n",
      "array([[-13.806461],\n",
      "       [  2.002811]], dtype=float32)>\n",
      "Epoch: 9   Loss 48.69295883   Theta_1_0: 2.00200319 -13.67214012\n",
      "Loss:\n",
      " tf.Tensor(46.906757, shape=(), dtype=float32)\n",
      "theta:\n",
      " <tf.Variable 'Variable:0' shape=(2, 1) dtype=float32, numpy=\n",
      "array([[-13.67214  ],\n",
      "       [  2.0020032]], dtype=float32)>\n",
      "Epoch: 10   Loss 46.90675735   Theta_1_0: 2.00186825 -13.54050636\n"
     ]
    }
   ],
   "source": [
    "# Use the below line in Jupyter Notebook to view the plot with interactive window, it doesn't work in Google Colab\n",
    "%matplotlib qt\n",
    "plt.xlim(-15, 15)\n",
    "plt.ylim(-30, 20)\n",
    "\n",
    "plt.plot(x, Y, \"ro\")\n",
    "\n",
    "opt = tf.keras.optimizers.SGD(learning_rate=0.01)\n",
    "epoch = 10\n",
    "count_epoch = 1\n",
    "while True:\n",
    "    # Calculate loss\n",
    "    with tf.GradientTape() as tape:\n",
    "        loss = Loss(theta)\n",
    "        print(\"Loss:\\n\", loss)\n",
    "    print(\"theta:\\n\", theta)\n",
    "    \n",
    "    # Draw a line using theta to see how the algorithm is doing\n",
    "    x_vis = np.array([-15.0, 15.0])\n",
    "    y_vis = theta[1][0]*x_vis + theta[0][0]\n",
    "    plt.plot(x_vis, y_vis)\n",
    "    plt.pause(0.01)\n",
    "\n",
    "    # Update theta\n",
    "    grads = tape.gradient(loss, [theta])\n",
    "    opt.apply_gradients(zip(grads, [theta]))\n",
    "    \n",
    "    print(\"Epoch: %d   Loss %.8f   Theta_1_0: %.8f %.8f\" % (count_epoch, loss.numpy(), theta[1][0], theta[0][0]))\n",
    "    \n",
    "    # Check if all values in loss is less than epsilon\n",
    "    # It will probably take a long time to satisfy the above condition, so we will have to use epoch\n",
    "    if tf.experimental.numpy.all((tf.math.abs(grads) < epsilon)) or count_epoch == epoch:\n",
    "        break   \n",
    "    count_epoch += 1"
   ]
  },
  {
   "cell_type": "markdown",
   "metadata": {
    "id": "qaIyBaRsea4W"
   },
   "source": [
    "**Result:** theta after running Linear Regression<br>\n",
    "**Note:** The algorithm runs **correctly** when **theta_1** and **theta_0** values **approximate** the **weight** and **bias** values of the line equation in the training data generation part."
   ]
  },
  {
   "cell_type": "code",
   "execution_count": 5,
   "metadata": {
    "colab": {
     "base_uri": "https://localhost:8080/"
    },
    "id": "PXcmsRzCei7d",
    "outputId": "d232307e-2fd6-46c5-d797-6759cf07b834"
   },
   "outputs": [
    {
     "name": "stdout",
     "output_type": "stream",
     "text": [
      "Giá trị tối ưu hiện tại của theta_1:  2.0018682\n",
      "Giá trị tối ưu hiện tại của theta_0:  -13.540506\n"
     ]
    }
   ],
   "source": [
    "print(\"Giá trị tối ưu hiện tại của theta_1: \", theta[1][0].numpy())\n",
    "print(\"Giá trị tối ưu hiện tại của theta_0: \", theta[0][0].numpy())"
   ]
  },
  {
   "cell_type": "code",
   "execution_count": null,
   "metadata": {
    "id": "NdeUCU9LgvGc"
   },
   "outputs": [],
   "source": []
  }
 ],
 "metadata": {
  "colab": {
   "collapsed_sections": [],
   "name": "LinearRegression_Tensorflow[Upgrade].ipynb",
   "provenance": []
  },
  "kernelspec": {
   "display_name": "Python 3",
   "language": "python",
   "name": "python3"
  },
  "language_info": {
   "codemirror_mode": {
    "name": "ipython",
    "version": 3
   },
   "file_extension": ".py",
   "mimetype": "text/x-python",
   "name": "python",
   "nbconvert_exporter": "python",
   "pygments_lexer": "ipython3",
   "version": "3.8.5"
  }
 },
 "nbformat": 4,
 "nbformat_minor": 1
}
