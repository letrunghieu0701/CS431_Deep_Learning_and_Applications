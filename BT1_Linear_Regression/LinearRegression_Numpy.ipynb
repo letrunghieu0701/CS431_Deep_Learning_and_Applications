{
 "cells": [
  {
   "cell_type": "code",
   "execution_count": 2,
   "metadata": {},
   "outputs": [],
   "source": [
    "import numpy as np\n",
    "import matplotlib.pyplot as plt"
   ]
  },
  {
   "cell_type": "markdown",
   "metadata": {},
   "source": [
    "**Create training data**"
   ]
  },
  {
   "cell_type": "code",
   "execution_count": 3,
   "metadata": {},
   "outputs": [
    {
     "data": {
      "text/plain": [
       "<function matplotlib.pyplot.show(close=None, block=None)>"
      ]
     },
     "execution_count": 3,
     "metadata": {},
     "output_type": "execute_result"
    },
    {
     "data": {
      "image/png": "[encoded data removed]",
      "text/plain": [
       "<Figure size 432x288 with 1 Axes>"
      ]
     },
     "metadata": {
      "needs_background": "light"
     },
     "output_type": "display_data"
    }
   ],
   "source": [
    "x = np.arange(-10, 10, 0.1)\n",
    "n_sample = len(x)\n",
    "noise = np.random.normal(0, 2, n_sample)\n",
    "y = 2*x - 7 + noise\n",
    "\n",
    "# Use the below line in Jupyter Notebook to view the plot inside notebook, it doesn't work in Google Colab\n",
    "%matplotlib inline\n",
    "plt.plot(x, y, \"ro\")\n",
    "plt.show"
   ]
  },
  {
   "cell_type": "markdown",
   "metadata": {},
   "source": [
    "**Set value for these parameters:**<br>\n",
    "theta0, theta1, alpha and epsilon"
   ]
  },
  {
   "cell_type": "code",
   "execution_count": 3,
   "metadata": {},
   "outputs": [],
   "source": [
    "theta_0 = -15\n",
    "theta_1 = 12\n",
    "alpha = 0.01\n",
    "epsilon = 0.001"
   ]
  },
  {
   "cell_type": "markdown",
   "metadata": {},
   "source": [
    "**Loop:**<br>\n",
    "<span style=\"margin-left:2em\">Update theta</span><br>\n",
    "<span style=\"margin-left:2em\">Stopping condition</span>"
   ]
  },
  {
   "cell_type": "code",
   "execution_count": null,
   "metadata": {},
   "outputs": [
    {
     "name": "stdout",
     "output_type": "stream",
     "text": [
      "Epoch: 1   Der_theta 1_0: 333.43758851 -8.37998417   Theta_1_0: 8.66562411 -14.91620016\n",
      "Epoch: 2   Der_theta 1_0: 222.28197839 -8.12946553   Theta_1_0: 6.44280433 -14.83490550\n",
      "Epoch: 3   Der_theta 1_0: 148.18021616 -7.93702989   Theta_1_0: 4.96100217 -14.75553520\n",
      "Epoch: 4   Der_theta 1_0: 98.78037259 -7.78356948   Theta_1_0: 3.97319844 -14.67769951\n",
      "Epoch: 5   Der_theta 1_0: 65.84804360 -7.65634360   Theta_1_0: 3.31471801 -14.60113607\n",
      "Epoch: 6   Der_theta 1_0: 43.89377010 -7.54685614   Theta_1_0: 2.87578031 -14.52566751\n",
      "Epoch: 7   Der_theta 1_0: 29.25800841 -7.44944070   Theta_1_0: 2.58320022 -14.45117310\n",
      "Epoch: 8   Der_theta 1_0: 19.50112658 -7.36031728   Theta_1_0: 2.38818896 -14.37756993\n",
      "Epoch: 9   Der_theta 1_0: 12.99674588 -7.27696355   Theta_1_0: 2.25822150 -14.30480030\n",
      "Epoch: 10   Der_theta 1_0: 8.66064216 -7.19769554   Theta_1_0: 2.17161508 -14.23282334\n",
      "Epoch: 11   Der_theta 1_0: 5.77001825 -7.12138826   Theta_1_0: 2.11391489 -14.16160946\n",
      "Epoch: 12   Der_theta 1_0: 3.84302197 -7.04728937   Theta_1_0: 2.07548467 -14.09113656\n",
      "Epoch: 13   Der_theta 1_0: 2.55842695 -6.97489497   Theta_1_0: 2.04990040 -14.02138762\n",
      "Epoch: 14   Der_theta 1_0: 1.70208788 -6.90386680   Theta_1_0: 2.03287953 -13.95234895\n",
      "Epoch: 15   Der_theta 1_0: 1.13124495 -6.83397709   Theta_1_0: 2.02156708 -13.88400918\n",
      "Epoch: 16   Der_theta 1_0: 0.75072746 -6.76507170   Theta_1_0: 2.01405980 -13.81635846\n",
      "Epoch: 17   Der_theta 1_0: 0.49708992 -6.69704562   Theta_1_0: 2.00908890 -13.74938800\n",
      "Epoch: 18   Der_theta 1_0: 0.32803648 -6.62982662   Theta_1_0: 2.00580854 -13.68308974\n",
      "Epoch: 19   Der_theta 1_0: 0.21537060 -6.56336433   Theta_1_0: 2.00365483 -13.61745609\n",
      "Epoch: 20   Der_theta 1_0: 0.14029513 -6.49762300   Theta_1_0: 2.00225188 -13.55247986\n",
      "Epoch: 21   Der_theta 1_0: 0.09027894 -6.43257663   Theta_1_0: 2.00134909 -13.48815410\n",
      "Epoch: 22   Der_theta 1_0: 0.05696817 -6.36820572   Theta_1_0: 2.00077941 -13.42447204\n",
      "Epoch: 23   Der_theta 1_0: 0.03479372 -6.30449518   Theta_1_0: 2.00043147 -13.36142709\n",
      "Epoch: 24   Der_theta 1_0: 0.02004299 -6.24143283   Theta_1_0: 2.00023104 -13.29901276\n",
      "Epoch: 25   Der_theta 1_0: 0.01024094 -6.17900848   Theta_1_0: 2.00012863 -13.23722268\n",
      "Epoch: 26   Der_theta 1_0: 0.00373762 -6.11721328   Theta_1_0: 2.00009126 -13.17605054\n",
      "Epoch: 27   Der_theta 1_0: -0.00056692 -6.05603927   Theta_1_0: 2.00009693 -13.11549015\n",
      "Epoch: 28   Der_theta 1_0: -0.00340596 -5.99547916   Theta_1_0: 2.00013099 -13.05553536\n",
      "Epoch: 29   Der_theta 1_0: -0.00526832 -5.93552608   Theta_1_0: 2.00018367 -12.99618010\n",
      "Epoch: 30   Der_theta 1_0: -0.00647989 -5.87617345   Theta_1_0: 2.00024847 -12.93741836\n",
      "Epoch: 31   Der_theta 1_0: -0.00725791 -5.81741495   Theta_1_0: 2.00032105 -12.87924421\n",
      "Epoch: 32   Der_theta 1_0: -0.00774719 -5.75924443   Theta_1_0: 2.00039852 -12.82165177\n",
      "Epoch: 33   Der_theta 1_0: -0.00804429 -5.70165586   Theta_1_0: 2.00047896 -12.76463521\n",
      "Epoch: 34   Der_theta 1_0: -0.00821355 -5.64464333   Theta_1_0: 2.00056110 -12.70818878\n",
      "Epoch: 35   Der_theta 1_0: -0.00829789 -5.58820100   Theta_1_0: 2.00064408 -12.65230677\n",
      "Epoch: 36   Der_theta 1_0: -0.00832589 -5.53232314   Theta_1_0: 2.00072733 -12.59698354\n",
      "Epoch: 37   Der_theta 1_0: -0.00831661 -5.47700407   Theta_1_0: 2.00081050 -12.54221349\n",
      "Epoch: 38   Der_theta 1_0: -0.00828277 -5.42223819   Theta_1_0: 2.00089333 -12.48799111\n",
      "Epoch: 39   Der_theta 1_0: -0.00823283 -5.36801995   Theta_1_0: 2.00097566 -12.43431091\n",
      "Epoch: 40   Der_theta 1_0: -0.00817243 -5.31434387   Theta_1_0: 2.00105738 -12.38116747\n",
      "Epoch: 41   Der_theta 1_0: -0.00810532 -5.26120451   Theta_1_0: 2.00113843 -12.32855543\n",
      "Epoch: 42   Der_theta 1_0: -0.00803401 -5.20859652   Theta_1_0: 2.00121877 -12.27646946\n",
      "Epoch: 43   Der_theta 1_0: -0.00796017 -5.15651457   Theta_1_0: 2.00129838 -12.22490432\n",
      "Epoch: 44   Der_theta 1_0: -0.00788491 -5.10495341   Theta_1_0: 2.00137723 -12.17385478\n",
      "Epoch: 45   Der_theta 1_0: -0.00780895 -5.05390781   Theta_1_0: 2.00145531 -12.12331571\n",
      "Epoch: 46   Der_theta 1_0: -0.00773279 -5.00337264   Theta_1_0: 2.00153264 -12.07328198\n",
      "Epoch: 47   Der_theta 1_0: -0.00765675 -4.95334278   Theta_1_0: 2.00160921 -12.02374855\n",
      "Epoch: 48   Der_theta 1_0: -0.00758104 -4.90381318   Theta_1_0: 2.00168502 -11.97471042\n",
      "Epoch: 49   Der_theta 1_0: -0.00750581 -4.85477884   Theta_1_0: 2.00176008 -11.92616263\n",
      "Epoch: 50   Der_theta 1_0: -0.00743114 -4.80623480   Theta_1_0: 2.00183439 -11.87810028\n",
      "Epoch: 51   Der_theta 1_0: -0.00735709 -4.75817617   Theta_1_0: 2.00190796 -11.83051852\n",
      "Epoch: 52   Der_theta 1_0: -0.00728369 -4.71059809   Theta_1_0: 2.00198080 -11.78341254\n",
      "Epoch: 53   Der_theta 1_0: -0.00721097 -4.66349575   Theta_1_0: 2.00205291 -11.73677758\n",
      "Epoch: 54   Der_theta 1_0: -0.00713894 -4.61686440   Theta_1_0: 2.00212430 -11.69060894\n",
      "Epoch: 55   Der_theta 1_0: -0.00706761 -4.57069932   Theta_1_0: 2.00219497 -11.64490195\n",
      "Epoch: 56   Der_theta 1_0: -0.00699697 -4.52499586   Theta_1_0: 2.00226494 -11.59965199\n",
      "Epoch: 57   Der_theta 1_0: -0.00692703 -4.47974940   Theta_1_0: 2.00233421 -11.55485449\n",
      "Epoch: 58   Der_theta 1_0: -0.00685778 -4.43495537   Theta_1_0: 2.00240279 -11.51050494\n",
      "Epoch: 59   Der_theta 1_0: -0.00678922 -4.39060925   Theta_1_0: 2.00247068 -11.46659885\n",
      "Epoch: 60   Der_theta 1_0: -0.00672134 -4.34670655   Theta_1_0: 2.00253790 -11.42313178\n",
      "Epoch: 61   Der_theta 1_0: -0.00665413 -4.30324285   Theta_1_0: 2.00260444 -11.38009935\n",
      "Epoch: 62   Der_theta 1_0: -0.00658760 -4.26021374   Theta_1_0: 2.00267031 -11.33749722\n",
      "Epoch: 63   Der_theta 1_0: -0.00652173 -4.21761490   Theta_1_0: 2.00273553 -11.29532107\n",
      "Epoch: 64   Der_theta 1_0: -0.00645652 -4.17544201   Theta_1_0: 2.00280010 -11.25356665\n",
      "Epoch: 65   Der_theta 1_0: -0.00639196 -4.13369082   Theta_1_0: 2.00286402 -11.21222974\n",
      "Epoch: 66   Der_theta 1_0: -0.00632804 -4.09235711   Theta_1_0: 2.00292730 -11.17130617\n",
      "Epoch: 67   Der_theta 1_0: -0.00626477 -4.05143670   Theta_1_0: 2.00298994 -11.13079180\n",
      "Epoch: 68   Der_theta 1_0: -0.00620213 -4.01092547   Theta_1_0: 2.00305196 -11.09068255\n",
      "Epoch: 69   Der_theta 1_0: -0.00614011 -3.97081931   Theta_1_0: 2.00311337 -11.05097435\n",
      "Epoch: 70   Der_theta 1_0: -0.00607871 -3.93111419   Theta_1_0: 2.00317415 -11.01166321\n",
      "Epoch: 71   Der_theta 1_0: -0.00601793 -3.89180609   Theta_1_0: 2.00323433 -10.97274515\n",
      "Epoch: 72   Der_theta 1_0: -0.00595776 -3.85289104   Theta_1_0: 2.00329391 -10.93421624\n",
      "Epoch: 73   Der_theta 1_0: -0.00589818 -3.81436510   Theta_1_0: 2.00335289 -10.89607259\n",
      "Epoch: 74   Der_theta 1_0: -0.00583921 -3.77622440   Theta_1_0: 2.00341128 -10.85831034\n",
      "Epoch: 75   Der_theta 1_0: -0.00578082 -3.73846508   Theta_1_0: 2.00346909 -10.82092569\n",
      "Epoch: 76   Der_theta 1_0: -0.00572302 -3.70108332   Theta_1_0: 2.00352632 -10.78391486\n",
      "Epoch: 77   Der_theta 1_0: -0.00566579 -3.66407535   Theta_1_0: 2.00358298 -10.74727411\n",
      "Epoch: 78   Der_theta 1_0: -0.00560914 -3.62743743   Theta_1_0: 2.00363907 -10.71099973\n",
      "Epoch: 79   Der_theta 1_0: -0.00555305 -3.59116586   Theta_1_0: 2.00369460 -10.67508807\n",
      "Epoch: 80   Der_theta 1_0: -0.00549752 -3.55525697   Theta_1_0: 2.00374958 -10.63953550\n",
      "Epoch: 81   Der_theta 1_0: -0.00544255 -3.51970715   Theta_1_0: 2.00380400 -10.60433843\n",
      "Epoch: 82   Der_theta 1_0: -0.00538813 -3.48451280   Theta_1_0: 2.00385788 -10.56949331\n",
      "Epoch: 83   Der_theta 1_0: -0.00533425 -3.44967037   Theta_1_0: 2.00391123 -10.53499660\n",
      "Epoch: 84   Der_theta 1_0: -0.00528092 -3.41517633   Theta_1_0: 2.00396404 -10.50084484\n",
      "Epoch: 85   Der_theta 1_0: -0.00522811 -3.38102721   Theta_1_0: 2.00401632 -10.46703457\n",
      "Epoch: 86   Der_theta 1_0: -0.00517583 -3.34721955   Theta_1_0: 2.00406808 -10.43356237\n",
      "Epoch: 87   Der_theta 1_0: -0.00512408 -3.31374994   Theta_1_0: 2.00411932 -10.40042487\n",
      "Epoch: 88   Der_theta 1_0: -0.00507284 -3.28061501   Theta_1_0: 2.00417004 -10.36761872\n",
      "Epoch: 89   Der_theta 1_0: -0.00502212 -3.24781139   Theta_1_0: 2.00422027 -10.33514061\n",
      "Epoch: 90   Der_theta 1_0: -0.00497190 -3.21533579   Theta_1_0: 2.00426998 -10.30298725\n",
      "Epoch: 91   Der_theta 1_0: -0.00492219 -3.18318492   Theta_1_0: 2.00431921 -10.27115540\n",
      "Epoch: 92   Der_theta 1_0: -0.00487297 -3.15135553   Theta_1_0: 2.00436794 -10.23964185\n",
      "Epoch: 93   Der_theta 1_0: -0.00482424 -3.11984441   Theta_1_0: 2.00441618 -10.20844340\n",
      "Epoch: 94   Der_theta 1_0: -0.00477600 -3.08864838   Theta_1_0: 2.00446394 -10.17755692\n",
      "Epoch: 95   Der_theta 1_0: -0.00472825 -3.05776428   Theta_1_0: 2.00451122 -10.14697927\n",
      "Epoch: 96   Der_theta 1_0: -0.00468097 -3.02718900   Theta_1_0: 2.00455803 -10.11670738\n"
     ]
    },
    {
     "name": "stdout",
     "output_type": "stream",
     "text": [
      "Epoch: 97   Der_theta 1_0: -0.00463416 -2.99691945   Theta_1_0: 2.00460437 -10.08673819\n",
      "Epoch: 98   Der_theta 1_0: -0.00458782 -2.96695258   Theta_1_0: 2.00465025 -10.05706866\n",
      "Epoch: 99   Der_theta 1_0: -0.00454195 -2.93728535   Theta_1_0: 2.00469567 -10.02769581\n",
      "Epoch: 100   Der_theta 1_0: -0.00449653 -2.90791476   Theta_1_0: 2.00474064 -9.99861666\n",
      "Epoch: 101   Der_theta 1_0: -0.00445157 -2.87883786   Theta_1_0: 2.00478515 -9.96982828\n",
      "Epoch: 102   Der_theta 1_0: -0.00440706 -2.85005171   Theta_1_0: 2.00482922 -9.94132777\n",
      "Epoch: 103   Der_theta 1_0: -0.00436299 -2.82155340   Theta_1_0: 2.00487285 -9.91311223\n",
      "Epoch: 104   Der_theta 1_0: -0.00431937 -2.79334004   Theta_1_0: 2.00491605 -9.88517883\n",
      "Epoch: 105   Der_theta 1_0: -0.00427617 -2.76540880   Theta_1_0: 2.00495881 -9.85752474\n",
      "Epoch: 106   Der_theta 1_0: -0.00423342 -2.73775685   Theta_1_0: 2.00500114 -9.83014718\n",
      "Epoch: 107   Der_theta 1_0: -0.00419109 -2.71038140   Theta_1_0: 2.00504305 -9.80304336\n",
      "Epoch: 108   Der_theta 1_0: -0.00414918 -2.68327968   Theta_1_0: 2.00508454 -9.77621057\n",
      "Epoch: 109   Der_theta 1_0: -0.00410769 -2.65644896   Theta_1_0: 2.00512562 -9.74964608\n",
      "Epoch: 110   Der_theta 1_0: -0.00406662 -2.62988653   Theta_1_0: 2.00516629 -9.72334721\n",
      "Epoch: 111   Der_theta 1_0: -0.00402595 -2.60358969   Theta_1_0: 2.00520655 -9.69731131\n",
      "Epoch: 112   Der_theta 1_0: -0.00398570 -2.57755581   Theta_1_0: 2.00524640 -9.67153576\n",
      "Epoch: 113   Der_theta 1_0: -0.00394584 -2.55178224   Theta_1_0: 2.00528586 -9.64601793\n",
      "Epoch: 114   Der_theta 1_0: -0.00390639 -2.52626639   Theta_1_0: 2.00532493 -9.62075527\n",
      "Epoch: 115   Der_theta 1_0: -0.00386733 -2.50100568   Theta_1_0: 2.00536360 -9.59574521\n",
      "Epoch: 116   Der_theta 1_0: -0.00382866 -2.47599756   Theta_1_0: 2.00540189 -9.57098524\n",
      "Epoch: 117   Der_theta 1_0: -0.00379037 -2.45123950   Theta_1_0: 2.00543979 -9.54647284\n",
      "Epoch: 118   Der_theta 1_0: -0.00375247 -2.42672900   Theta_1_0: 2.00547731 -9.52220555\n",
      "Epoch: 119   Der_theta 1_0: -0.00371495 -2.40246359   Theta_1_0: 2.00551446 -9.49818092\n",
      "Epoch: 120   Der_theta 1_0: -0.00367780 -2.37844081   Theta_1_0: 2.00555124 -9.47439651\n",
      "Epoch: 121   Der_theta 1_0: -0.00364103 -2.35465824   Theta_1_0: 2.00558765 -9.45084993\n",
      "Epoch: 122   Der_theta 1_0: -0.00360462 -2.33111348   Theta_1_0: 2.00562370 -9.42753879\n",
      "Epoch: 123   Der_theta 1_0: -0.00356858 -2.30780414   Theta_1_0: 2.00565938 -9.40446075\n",
      "Epoch: 124   Der_theta 1_0: -0.00353289 -2.28472789   Theta_1_0: 2.00569471 -9.38161347\n",
      "Epoch: 125   Der_theta 1_0: -0.00349757 -2.26188237   Theta_1_0: 2.00572969 -9.35899465\n",
      "Epoch: 126   Der_theta 1_0: -0.00346259 -2.23926530   Theta_1_0: 2.00576431 -9.33660199\n",
      "Epoch: 127   Der_theta 1_0: -0.00342797 -2.21687438   Theta_1_0: 2.00579859 -9.31443325\n",
      "Epoch: 128   Der_theta 1_0: -0.00339369 -2.19470735   Theta_1_0: 2.00583253 -9.29248618\n",
      "Epoch: 129   Der_theta 1_0: -0.00335976 -2.17276197   Theta_1_0: 2.00586613 -9.27075856\n",
      "Epoch: 130   Der_theta 1_0: -0.00332616 -2.15103603   Theta_1_0: 2.00589939 -9.24924820\n",
      "Epoch: 131   Der_theta 1_0: -0.00329291 -2.12952733   Theta_1_0: 2.00593232 -9.22795292\n",
      "Epoch: 132   Der_theta 1_0: -0.00325998 -2.10823371   Theta_1_0: 2.00596492 -9.20687059\n",
      "Epoch: 133   Der_theta 1_0: -0.00322738 -2.08715300   Theta_1_0: 2.00599719 -9.18599906\n",
      "Epoch: 134   Der_theta 1_0: -0.00319511 -2.06628308   Theta_1_0: 2.00602914 -9.16533622\n",
      "Epoch: 135   Der_theta 1_0: -0.00316316 -2.04562185   Theta_1_0: 2.00606078 -9.14488001\n",
      "Epoch: 136   Der_theta 1_0: -0.00313153 -2.02516721   Theta_1_0: 2.00609209 -9.12462833\n",
      "Epoch: 137   Der_theta 1_0: -0.00310022 -2.00491711   Theta_1_0: 2.00612309 -9.10457916\n",
      "Epoch: 138   Der_theta 1_0: -0.00306922 -1.98486949   Theta_1_0: 2.00615379 -9.08473047\n",
      "Epoch: 139   Der_theta 1_0: -0.00303853 -1.96502233   Theta_1_0: 2.00618417 -9.06508025\n",
      "Epoch: 140   Der_theta 1_0: -0.00300815 -1.94537362   Theta_1_0: 2.00621425 -9.04562651\n",
      "Epoch: 141   Der_theta 1_0: -0.00297807 -1.92592139   Theta_1_0: 2.00624403 -9.02636729\n",
      "Epoch: 142   Der_theta 1_0: -0.00294829 -1.90666367   Theta_1_0: 2.00627352 -9.00730066\n",
      "Epoch: 143   Der_theta 1_0: -0.00291881 -1.88759850   Theta_1_0: 2.00630270 -8.98842467\n",
      "Epoch: 144   Der_theta 1_0: -0.00288962 -1.86872398   Theta_1_0: 2.00633160 -8.96973743\n",
      "Epoch: 145   Der_theta 1_0: -0.00286073 -1.85003818   Theta_1_0: 2.00636021 -8.95123705\n",
      "Epoch: 146   Der_theta 1_0: -0.00283212 -1.83153923   Theta_1_0: 2.00638853 -8.93292166\n",
      "Epoch: 147   Der_theta 1_0: -0.00280381 -1.81322525   Theta_1_0: 2.00641657 -8.91478941\n",
      "Epoch: 148   Der_theta 1_0: -0.00277577 -1.79509440   Theta_1_0: 2.00644432 -8.89683846\n",
      "Epoch: 149   Der_theta 1_0: -0.00274801 -1.77714485   Theta_1_0: 2.00647180 -8.87906701\n",
      "Epoch: 150   Der_theta 1_0: -0.00272054 -1.75937477   Theta_1_0: 2.00649901 -8.86147327\n",
      "Epoch: 151   Der_theta 1_0: -0.00269333 -1.74178239   Theta_1_0: 2.00652594 -8.84405544\n",
      "Epoch: 152   Der_theta 1_0: -0.00266640 -1.72436591   Theta_1_0: 2.00655261 -8.82681178\n",
      "Epoch: 153   Der_theta 1_0: -0.00263974 -1.70712358   Theta_1_0: 2.00657900 -8.80974055\n",
      "Epoch: 154   Der_theta 1_0: -0.00261334 -1.69005367   Theta_1_0: 2.00660514 -8.79284001\n",
      "Epoch: 155   Der_theta 1_0: -0.00258721 -1.67315444   Theta_1_0: 2.00663101 -8.77610847\n",
      "Epoch: 156   Der_theta 1_0: -0.00256134 -1.65642419   Theta_1_0: 2.00665662 -8.75954422\n",
      "Epoch: 157   Der_theta 1_0: -0.00253573 -1.63986122   Theta_1_0: 2.00668198 -8.74314561\n",
      "Epoch: 158   Der_theta 1_0: -0.00251038 -1.62346388   Theta_1_0: 2.00670708 -8.72691097\n",
      "Epoch: 159   Der_theta 1_0: -0.00248527 -1.60723050   Theta_1_0: 2.00673194 -8.71083867\n",
      "Epoch: 160   Der_theta 1_0: -0.00246042 -1.59115943   Theta_1_0: 2.00675654 -8.69492707\n",
      "Epoch: 161   Der_theta 1_0: -0.00243582 -1.57524907   Theta_1_0: 2.00678090 -8.67917458\n",
      "Epoch: 162   Der_theta 1_0: -0.00241146 -1.55949780   Theta_1_0: 2.00680501 -8.66357961\n",
      "Epoch: 163   Der_theta 1_0: -0.00238735 -1.54390403   Theta_1_0: 2.00682889 -8.64814057\n",
      "Epoch: 164   Der_theta 1_0: -0.00236348 -1.52846618   Theta_1_0: 2.00685252 -8.63285590\n",
      "Epoch: 165   Der_theta 1_0: -0.00233985 -1.51318270   Theta_1_0: 2.00687592 -8.61772408\n",
      "Epoch: 166   Der_theta 1_0: -0.00231645 -1.49805204   Theta_1_0: 2.00689909 -8.60274356\n",
      "Epoch: 167   Der_theta 1_0: -0.00229329 -1.48307268   Theta_1_0: 2.00692202 -8.58791283\n",
      "Epoch: 168   Der_theta 1_0: -0.00227036 -1.46824310   Theta_1_0: 2.00694472 -8.57323040\n",
      "Epoch: 169   Der_theta 1_0: -0.00224765 -1.45356180   Theta_1_0: 2.00696720 -8.55869478\n",
      "Epoch: 170   Der_theta 1_0: -0.00222518 -1.43902731   Theta_1_0: 2.00698945 -8.54430451\n",
      "Epoch: 171   Der_theta 1_0: -0.00220293 -1.42463815   Theta_1_0: 2.00701148 -8.53005813\n",
      "Epoch: 172   Der_theta 1_0: -0.00218090 -1.41039287   Theta_1_0: 2.00703329 -8.51595420\n",
      "Epoch: 173   Der_theta 1_0: -0.00215909 -1.39629003   Theta_1_0: 2.00705488 -8.50199130\n",
      "Epoch: 174   Der_theta 1_0: -0.00213751 -1.38232821   Theta_1_0: 2.00707625 -8.48816801\n",
      "Epoch: 175   Der_theta 1_0: -0.00211613 -1.36850600   Theta_1_0: 2.00709742 -8.47448295\n",
      "Epoch: 176   Der_theta 1_0: -0.00209497 -1.35482199   Theta_1_0: 2.00711837 -8.46093473\n",
      "Epoch: 177   Der_theta 1_0: -0.00207402 -1.34127482   Theta_1_0: 2.00713911 -8.44752199\n",
      "Epoch: 178   Der_theta 1_0: -0.00205329 -1.32786311   Theta_1_0: 2.00715964 -8.43424336\n",
      "Epoch: 179   Der_theta 1_0: -0.00203275 -1.31458551   Theta_1_0: 2.00717997 -8.42109750\n",
      "Epoch: 180   Der_theta 1_0: -0.00201243 -1.30144067   Theta_1_0: 2.00720009 -8.40808309\n",
      "Epoch: 181   Der_theta 1_0: -0.00199231 -1.28842727   Theta_1_0: 2.00722001 -8.39519882\n",
      "Epoch: 182   Der_theta 1_0: -0.00197238 -1.27554399   Theta_1_0: 2.00723974 -8.38244338\n",
      "Epoch: 183   Der_theta 1_0: -0.00195266 -1.26278954   Theta_1_0: 2.00725926 -8.36981549\n",
      "Epoch: 184   Der_theta 1_0: -0.00193314 -1.25016262   Theta_1_0: 2.00727860 -8.35731386\n",
      "Epoch: 185   Der_theta 1_0: -0.00191381 -1.23766196   Theta_1_0: 2.00729773 -8.34493724\n",
      "Epoch: 186   Der_theta 1_0: -0.00189467 -1.22528630   Theta_1_0: 2.00731668 -8.33268438\n",
      "Epoch: 187   Der_theta 1_0: -0.00187573 -1.21303438   Theta_1_0: 2.00733544 -8.32055403\n",
      "Epoch: 188   Der_theta 1_0: -0.00185697 -1.20090497   Theta_1_0: 2.00735401 -8.30854498\n",
      "Epoch: 189   Der_theta 1_0: -0.00183840 -1.18889685   Theta_1_0: 2.00737239 -8.29665602\n",
      "Epoch: 190   Der_theta 1_0: -0.00182002 -1.17700880   Theta_1_0: 2.00739059 -8.28488593\n"
     ]
    },
    {
     "name": "stdout",
     "output_type": "stream",
     "text": [
      "Epoch: 191   Der_theta 1_0: -0.00180182 -1.16523963   Theta_1_0: 2.00740861 -8.27323353\n",
      "Epoch: 192   Der_theta 1_0: -0.00178380 -1.15358813   Theta_1_0: 2.00742645 -8.26169765\n",
      "Epoch: 193   Der_theta 1_0: -0.00176597 -1.14205314   Theta_1_0: 2.00744411 -8.25027712\n",
      "Epoch: 194   Der_theta 1_0: -0.00174831 -1.13063349   Theta_1_0: 2.00746159 -8.23897078\n",
      "Epoch: 195   Der_theta 1_0: -0.00173083 -1.11932803   Theta_1_0: 2.00747890 -8.22777750\n"
     ]
    }
   ],
   "source": [
    "# Use the below line in Jupyter Notebook to view the plot with interactive window, it doesn't work in Google Colab\n",
    "%matplotlib qt\n",
    "plt.xlim(-15, 15)\n",
    "plt.ylim(-30, 22)\n",
    "\n",
    "plt.plot(x, y, \"ro\")\n",
    "\n",
    "epoch = 400\n",
    "count_epoch = 1\n",
    "while True:\n",
    "    # Update theta\n",
    "    DerivationTheta_0 = np.mean(theta_1*x + theta_0 - y)\n",
    "    DerivationTheta_1 = np.mean((theta_1*x + theta_0 - y)*x)\n",
    "    theta_0 = theta_0 - alpha*DerivationTheta_0\n",
    "    theta_1 = theta_1 - alpha*DerivationTheta_1\n",
    "    \n",
    "    # Draw a line using theta to see how the algorithm is doing\n",
    "    x_vis = np.array([-8.0, 8.0])\n",
    "    y_vis = theta_1*x_vis + theta_0\n",
    "    plt.plot(x_vis, y_vis)\n",
    "    plt.pause(0.001)\n",
    "    \n",
    "    # Stopping condition\n",
    "    DaoHamTheoTheta_0 = np.mean(theta_1*x + theta_0 - y)\n",
    "    DaoHamTheoTheta_1 = np.mean((theta_1*x + theta_0 - y)*x)   \n",
    "    print(\"Epoch: %d   Der_theta 1_0: %.8f %.8f   Theta_1_0: %.8f %.8f\" % (count_epoch, DerivationTheta_1, DerivationTheta_0, theta_1, theta_0))\n",
    "    # Check if all values in loss is less than epsilon\n",
    "    # It will probably take a long time to satisfy the above condition, so we will have to use epoch\n",
    "    if (abs(DaoHamTheoTheta_0) < epsilon) and (abs(DaoHamTheoTheta_1) < epsilon) or count_epoch == epoch:\n",
    "        break\n",
    "    count_epoch += 1"
   ]
  },
  {
   "cell_type": "markdown",
   "metadata": {},
   "source": [
    "**Result:** theta after running Linear Regression<br>\n",
    "**Note:** The algorithm runs **correctly** when **theta_1** and **theta_0** values **approximate** the **weight** and **bias** values of the line equation in the training data generation part."
   ]
  },
  {
   "cell_type": "code",
   "execution_count": 5,
   "metadata": {},
   "outputs": [],
   "source": [
    "print(f\"Current optimal value of theta_1: {theta_1}\")\n",
    "print(f\"Current optimal value of theta_0: {theta_0}\")"
   ]
  },
  {
   "cell_type": "code",
   "execution_count": null,
   "metadata": {},
   "outputs": [],
   "source": []
  }
 ],
 "metadata": {
  "kernelspec": {
   "display_name": "Python 3",
   "language": "python",
   "name": "python3"
  },
  "language_info": {
   "codemirror_mode": {
    "name": "ipython",
    "version": 3
   },
   "file_extension": ".py",
   "mimetype": "text/x-python",
   "name": "python",
   "nbconvert_exporter": "python",
   "pygments_lexer": "ipython3",
   "version": "3.8.5"
  }
 },
 "nbformat": 4,
 "nbformat_minor": 4
}
