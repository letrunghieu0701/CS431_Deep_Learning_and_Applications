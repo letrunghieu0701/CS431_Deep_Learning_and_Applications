{
 "cells": [
  {
   "cell_type": "code",
   "execution_count": 8,
   "metadata": {
    "executionInfo": {
     "elapsed": 471,
     "status": "ok",
     "timestamp": 1634034658438,
     "user": {
      "displayName": "Hieu Le Trung",
      "photoUrl": "https://lh3.googleusercontent.com/a/default-user=s64",
      "userId": "07970718141756542178"
     },
     "user_tz": -420
    },
    "id": "mErhSuJelilO"
   },
   "outputs": [],
   "source": [
    "import numpy as np\n",
    "import matplotlib.pyplot as plt\n",
    "import tensorflow as tf\n",
    "from tensorflow.linalg import matmul\n",
    "from tensorflow import transpose\n",
    "from tensorflow.math import log\n",
    "from tensorflow.math import sigmoid\n",
    "from tensorflow.math import reduce_mean"
   ]
  },
  {
   "cell_type": "markdown",
   "metadata": {
    "id": "oe405CFNt7Md"
   },
   "source": [
    "**Create training data**"
   ]
  },
  {
   "cell_type": "code",
   "execution_count": 9,
   "metadata": {
    "executionInfo": {
     "elapsed": 9,
     "status": "ok",
     "timestamp": 1634034659134,
     "user": {
      "displayName": "Hieu Le Trung",
      "photoUrl": "https://lh3.googleusercontent.com/a/default-user=s64",
      "userId": "07970718141756542178"
     },
     "user_tz": -420
    },
    "id": "c_G8IU38tzQW"
   },
   "outputs": [],
   "source": [
    "n_sample_blue = 80\n",
    "n_sample_red = 50\n",
    "n_sample = n_sample_red + n_sample_blue\n",
    "\n",
    "x_center_blue = np.array([[-6], [9]])\n",
    "x_center_red = np.array([[1], [2]])\n",
    "x_blue = x_center_blue + np.random.normal(0, 1, size=(2, n_sample_blue))\n",
    "x_red = x_center_red + np.random.normal(0, 1, size=(2, n_sample_red))\n",
    "ones = np.ones(n_sample)\n",
    "x = np.hstack((x_blue, x_red))\n",
    "X = np.vstack((ones, x)).astype('float64')\n",
    "\n",
    "Y = np.hstack((np.ones(n_sample_blue), np.zeros(n_sample_red))).astype('float64')"
   ]
  },
  {
   "cell_type": "code",
   "execution_count": 10,
   "metadata": {
    "colab": {
     "base_uri": "https://localhost:8080/"
    },
    "executionInfo": {
     "elapsed": 8,
     "status": "ok",
     "timestamp": 1634034659134,
     "user": {
      "displayName": "Hieu Le Trung",
      "photoUrl": "https://lh3.googleusercontent.com/a/default-user=s64",
      "userId": "07970718141756542178"
     },
     "user_tz": -420
    },
    "id": "LKNGCGJb1H5R",
    "outputId": "e90030cd-399f-44b1-a8b0-4a91f78d0a55"
   },
   "outputs": [
    {
     "name": "stdout",
     "output_type": "stream",
     "text": [
      "X.shape: (3, 130)\n",
      "Y.shape: (130,)\n"
     ]
    }
   ],
   "source": [
    "print(\"X.shape:\", X.shape)\n",
    "print(\"Y.shape:\", Y.shape)"
   ]
  },
  {
   "cell_type": "markdown",
   "metadata": {
    "id": "ldR4yeb7t_2K"
   },
   "source": [
    "**Khởi tạo tham số theta<br>\n",
    "Định nghĩa hàm loss<br>\n",
    "Chú ý: Không định nghĩa đạo hàm của hàm loss vì tensorflow sẽ tự đạo hàm**"
   ]
  },
  {
   "cell_type": "code",
   "execution_count": 11,
   "metadata": {
    "executionInfo": {
     "elapsed": 8,
     "status": "ok",
     "timestamp": 1634034659135,
     "user": {
      "displayName": "Hieu Le Trung",
      "photoUrl": "https://lh3.googleusercontent.com/a/default-user=s64",
      "userId": "07970718141756542178"
     },
     "user_tz": -420
    },
    "id": "v--OFsVhuDL7"
   },
   "outputs": [],
   "source": [
    "theta = tf.Variable(np.array([[1.0], [2.0], [3.0]], dtype=np.float64))\n",
    "epsilon = 0.001\n",
    "\n",
    "# Y_ = sigmoid(matmul(transpose(theta), X))\n",
    "# a = Y * log(Y_) + (1- Y)*log(1 - Y_)\n",
    "# loss = - reduce_mean(a)\n",
    "@tf.function\n",
    "def Loss(theta):\n",
    "    Y_ = sigmoid(matmul(transpose(theta), X))\n",
    "    return - reduce_mean(Y * log(Y_) + (1- Y)*log(1 - Y_))"
   ]
  },
  {
   "cell_type": "markdown",
   "metadata": {
    "id": "NadnpZtLuDuI"
   },
   "source": [
    "**Lặp<br>\n",
    "Cập nhật theta**"
   ]
  },
  {
   "cell_type": "code",
   "execution_count": null,
   "metadata": {
    "id": "uJW1PB3FuFg4"
   },
   "outputs": [],
   "source": [
    "opt = tf.keras.optimizers.SGD(learning_rate=0.01)\n",
    "\n",
    "count_epoch = 1\n",
    "epoch = 1000\n",
    "while True:\n",
    "    print(f\"Epoch {count_epoch}\")\n",
    "    with tf.GradientTape() as tape:\n",
    "        loss = Loss(theta)\n",
    "        print(\"Loss:\", loss.numpy())\n",
    "\n",
    "    grads = tape.gradient(loss, [theta])\n",
    "    opt.apply_gradients(zip(grads, [theta]))\n",
    "    print(f\"Grads: {grads[0][0][0].numpy(), grads[0][1][0].numpy(), grads[0][2][0].numpy()}\")\n",
    "\n",
    "    if tf.experimental.numpy.all((tf.math.abs(grads) < epsilon)) or count_epoch == epoch:\n",
    "        break\n",
    "\n",
    "    count_epoch += 1"
   ]
  },
  {
   "cell_type": "markdown",
   "metadata": {
    "id": "eJ75hE4HuF4l"
   },
   "source": [
    "**In kết quả**"
   ]
  },
  {
   "cell_type": "code",
   "execution_count": 13,
   "metadata": {
    "colab": {
     "base_uri": "https://localhost:8080/"
    },
    "executionInfo": {
     "elapsed": 45,
     "status": "ok",
     "timestamp": 1634034665797,
     "user": {
      "displayName": "Hieu Le Trung",
      "photoUrl": "https://lh3.googleusercontent.com/a/default-user=s64",
      "userId": "07970718141756542178"
     },
     "user_tz": -420
    },
    "id": "YJIvU2AkuK3g",
    "outputId": "698092b3-bdea-4997-fd54-5ab9de121db4"
   },
   "outputs": [
    {
     "name": "stdout",
     "output_type": "stream",
     "text": [
      "Current optimal value of theta_0: -0.9949470309931372\n",
      "Current optimal value of theta_1: -0.872639236486326\n",
      "Current optimal value of theta_1: 0.016384812242423424\n"
     ]
    }
   ],
   "source": [
    "print(f\"Current optimal value of theta_0: {theta[0][0]}\")\n",
    "print(f\"Current optimal value of theta_1: {theta[1][0]}\")\n",
    "print(f\"Current optimal value of theta_1: {theta[2][0]}\")"
   ]
  },
  {
   "cell_type": "code",
   "execution_count": 15,
   "metadata": {
    "colab": {
     "base_uri": "https://localhost:8080/",
     "height": 269
    },
    "executionInfo": {
     "elapsed": 529,
     "status": "ok",
     "timestamp": 1634034687215,
     "user": {
      "displayName": "Hieu Le Trung",
      "photoUrl": "https://lh3.googleusercontent.com/a/default-user=s64",
      "userId": "07970718141756542178"
     },
     "user_tz": -420
    },
    "id": "3nVgQQiA-4JQ",
    "outputId": "0273320b-670b-4ffe-a58b-d7e68c1bec05"
   },
   "outputs": [
    {
     "data": {
      "image/png": "[encoded data removed]",
      "text/plain": [
       "<Figure size 432x288 with 1 Axes>"
      ]
     },
     "metadata": {
      "needs_background": "light"
     },
     "output_type": "display_data"
    }
   ],
   "source": [
    "plt.xlim(-15, 8)\n",
    "plt.ylim(-10, 15)\n",
    "\n",
    "plt.plot(x_blue[0][:], x_blue[1][:], 'bo')\n",
    "plt.plot(x_red[0][:], x_red[1][:], 'ro')\n",
    "\n",
    "x_vis = np.array([[-15], [15]])  # vis stand for visualize\n",
    "y_vis = -(theta[1][0]*x_vis + theta[0][0]) / theta[2][0]\n",
    "plt.plot(x_vis, y_vis)\n",
    "plt.show()"
   ]
  },
  {
   "cell_type": "code",
   "execution_count": 14,
   "metadata": {
    "executionInfo": {
     "elapsed": 5,
     "status": "ok",
     "timestamp": 1634034667197,
     "user": {
      "displayName": "Hieu Le Trung",
      "photoUrl": "https://lh3.googleusercontent.com/a/default-user=s64",
      "userId": "07970718141756542178"
     },
     "user_tz": -420
    },
    "id": "7iWh5vD4_pJY"
   },
   "outputs": [],
   "source": []
  }
 ],
 "metadata": {
  "colab": {
   "authorship_tag": "ABX9TyNd9EBE3RqeCZo6coQz6Ecz",
   "collapsed_sections": [],
   "name": "LogisticRegression_Tensorflow[Upgrade].ipynb",
   "provenance": []
  },
  "kernelspec": {
   "display_name": "Python 3",
   "language": "python",
   "name": "python3"
  },
  "language_info": {
   "codemirror_mode": {
    "name": "ipython",
    "version": 3
   },
   "file_extension": ".py",
   "mimetype": "text/x-python",
   "name": "python",
   "nbconvert_exporter": "python",
   "pygments_lexer": "ipython3",
   "version": "3.8.5"
  }
 },
 "nbformat": 4,
 "nbformat_minor": 1
}
