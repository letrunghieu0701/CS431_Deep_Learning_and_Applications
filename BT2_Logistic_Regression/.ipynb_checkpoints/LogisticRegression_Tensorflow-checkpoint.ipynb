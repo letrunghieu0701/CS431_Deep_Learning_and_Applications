{
 "cells": [
  {
   "cell_type": "code",
   "execution_count": 1,
   "metadata": {
    "executionInfo": {
     "elapsed": 2095,
     "status": "ok",
     "timestamp": 1634033356268,
     "user": {
      "displayName": "Hieu Le Trung",
      "photoUrl": "https://lh3.googleusercontent.com/a/default-user=s64",
      "userId": "07970718141756542178"
     },
     "user_tz": -420
    },
    "id": "mErhSuJelilO"
   },
   "outputs": [],
   "source": [
    "import numpy as np\n",
    "import matplotlib.pyplot as plt\n",
    "import tensorflow as tf\n",
    "from tensorflow.linalg import matmul\n",
    "from tensorflow import transpose\n",
    "from tensorflow.math import log\n",
    "from tensorflow.math import sigmoid\n",
    "from tensorflow.math import reduce_mean"
   ]
  },
  {
   "cell_type": "markdown",
   "metadata": {
    "id": "oe405CFNt7Md"
   },
   "source": [
    "**Create training data**"
   ]
  },
  {
   "cell_type": "code",
   "execution_count": 2,
   "metadata": {
    "executionInfo": {
     "elapsed": 5,
     "status": "ok",
     "timestamp": 1634033356269,
     "user": {
      "displayName": "Hieu Le Trung",
      "photoUrl": "https://lh3.googleusercontent.com/a/default-user=s64",
      "userId": "07970718141756542178"
     },
     "user_tz": -420
    },
    "id": "c_G8IU38tzQW"
   },
   "outputs": [
    {
     "name": "stdout",
     "output_type": "stream",
     "text": [
      "X.shape: (3, 130)\n",
      "Y.shape: (130,)\n"
     ]
    }
   ],
   "source": [
    "n_sample_blue = 80\n",
    "n_sample_red = 50\n",
    "n_sample = n_sample_red + n_sample_blue\n",
    "\n",
    "x_center_blue = np.array([[-6], [9]])\n",
    "x_center_red = np.array([[1], [2]])\n",
    "x_blue = x_center_blue + np.random.normal(0, 2, size=(2, n_sample_blue))\n",
    "x_red = x_center_red + np.random.normal(0, 2, size=(2, n_sample_red))\n",
    "ones = np.ones(n_sample)\n",
    "x = np.hstack((x_blue, x_red))\n",
    "X = np.vstack((ones, x)).astype('float64')\n",
    "\n",
    "Y = np.hstack((np.ones(n_sample_blue), np.zeros(n_sample_red))).astype('float64')\n",
    "\n",
    "print(\"X.shape:\", X.shape)\n",
    "print(\"Y.shape:\", Y.shape)"
   ]
  },
  {
   "cell_type": "code",
   "execution_count": 3,
   "metadata": {},
   "outputs": [
    {
     "data": {
      "image/png": "[encoded data removed]",
      "text/plain": [
       "<Figure size 432x288 with 1 Axes>"
      ]
     },
     "metadata": {
      "needs_background": "light"
     },
     "output_type": "display_data"
    }
   ],
   "source": [
    "# Use the below line in Jupyter Notebook to view the plot inside notebook, it doesn't work in Google Colab\n",
    "%matplotlib inline\n",
    "plt.plot(x_blue[0][:], x_blue[1][:], 'bo')\n",
    "plt.plot(x_red[0][:], x_red[1][:], 'ro')\n",
    "# Or\n",
    "# plt.plot(X[1][:n_sample_blue], X[2][:n_sample_blue], 'bo')\n",
    "# plt.plot(X[1][n_sample_blue:], X[2][n_sample_blue:], 'ro')\n",
    "plt.show()"
   ]
  },
  {
   "cell_type": "markdown",
   "metadata": {
    "id": "ldR4yeb7t_2K"
   },
   "source": [
    "**Set value:** theta<br>\n",
    "**Define:** loss function<br>\n",
    "**Note:** Do not define the derivative of the loss function because tensorflow will take the derivative by itself"
   ]
  },
  {
   "cell_type": "code",
   "execution_count": 4,
   "metadata": {
    "executionInfo": {
     "elapsed": 318,
     "status": "ok",
     "timestamp": 1634033655761,
     "user": {
      "displayName": "Hieu Le Trung",
      "photoUrl": "https://lh3.googleusercontent.com/a/default-user=s64",
      "userId": "07970718141756542178"
     },
     "user_tz": -420
    },
    "id": "v--OFsVhuDL7"
   },
   "outputs": [],
   "source": [
    "theta = tf.Variable(np.array([[1.0], [2.0], [3.0]], dtype=np.float64))\n",
    "\n",
    "# Y_ = sigmoid(matmul(transpose(theta), X))\n",
    "# a = Y * log(Y_) + (1- Y)*log(1 - Y_)\n",
    "# reduce_mean(a)\n",
    "loss = lambda: - reduce_mean(Y * log(sigmoid(matmul(transpose(theta), X))) + (1- Y)*log(1 - sigmoid(matmul(transpose(theta), X))))"
   ]
  },
  {
   "cell_type": "markdown",
   "metadata": {
    "id": "NadnpZtLuDuI"
   },
   "source": [
    "**Loop:**<br>\n",
    "<span style=\"margin-left:2em\">Update theta</span><br>"
   ]
  },
  {
   "cell_type": "code",
   "execution_count": 5,
   "metadata": {
    "executionInfo": {
     "elapsed": 12223,
     "status": "ok",
     "timestamp": 1634033669012,
     "user": {
      "displayName": "Hieu Le Trung",
      "photoUrl": "https://lh3.googleusercontent.com/a/default-user=s64",
      "userId": "07970718141756542178"
     },
     "user_tz": -420
    },
    "id": "uJW1PB3FuFg4"
   },
   "outputs": [],
   "source": [
    "opt = tf.keras.optimizers.SGD(learning_rate=0.01)\n",
    "for i in range(3000):\n",
    "    opt.minimize(loss, var_list=[theta])"
   ]
  },
  {
   "cell_type": "markdown",
   "metadata": {
    "id": "eJ75hE4HuF4l"
   },
   "source": [
    "**Result:** theta after running Losgistic Regression"
   ]
  },
  {
   "cell_type": "code",
   "execution_count": 6,
   "metadata": {
    "colab": {
     "base_uri": "https://localhost:8080/"
    },
    "executionInfo": {
     "elapsed": 8,
     "status": "ok",
     "timestamp": 1634033669015,
     "user": {
      "displayName": "Hieu Le Trung",
      "photoUrl": "https://lh3.googleusercontent.com/a/default-user=s64",
      "userId": "07970718141756542178"
     },
     "user_tz": -420
    },
    "id": "YJIvU2AkuK3g",
    "outputId": "6452cc75-7611-4927-ac27-6f62e2b0d200"
   },
   "outputs": [
    {
     "name": "stdout",
     "output_type": "stream",
     "text": [
      "Current optimal value of theta_0: nan\n",
      "Current optimal value of theta_1: nan\n",
      "Current optimal value of theta_1: nan\n"
     ]
    }
   ],
   "source": [
    "print(f\"Current optimal value of theta_0: {theta[0][0]}\")\n",
    "print(f\"Current optimal value of theta_1: {theta[1][0]}\")\n",
    "print(f\"Current optimal value of theta_1: {theta[2][0]}\")"
   ]
  },
  {
   "cell_type": "code",
   "execution_count": null,
   "metadata": {
    "id": "7iWh5vD4_pJY"
   },
   "outputs": [],
   "source": []
  }
 ],
 "metadata": {
  "colab": {
   "authorship_tag": "ABX9TyPGhyyOU8zHGSUcj7bKfyh+",
   "collapsed_sections": [],
   "name": "LogisticRegression_Tensorflow.ipynb",
   "provenance": []
  },
  "kernelspec": {
   "display_name": "Python 3",
   "language": "python",
   "name": "python3"
  },
  "language_info": {
   "codemirror_mode": {
    "name": "ipython",
    "version": 3
   },
   "file_extension": ".py",
   "mimetype": "text/x-python",
   "name": "python",
   "nbconvert_exporter": "python",
   "pygments_lexer": "ipython3",
   "version": "3.8.5"
  }
 },
 "nbformat": 4,
 "nbformat_minor": 1
}
