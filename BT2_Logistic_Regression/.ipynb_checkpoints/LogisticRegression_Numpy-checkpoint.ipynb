{
 "cells": [
  {
   "cell_type": "code",
   "execution_count": 1,
   "metadata": {},
   "outputs": [],
   "source": [
    "import numpy as np\n",
    "import matplotlib.pyplot as plt"
   ]
  },
  {
   "cell_type": "code",
   "execution_count": 2,
   "metadata": {},
   "outputs": [
    {
     "data": {
      "text/plain": [
       "(-10.0, 10.0)"
      ]
     },
     "execution_count": 2,
     "metadata": {},
     "output_type": "execute_result"
    },
    {
     "data": {
      "image/png": "[encoded data removed]",
      "text/plain": [
       "<Figure size 432x288 with 1 Axes>"
      ]
     },
     "metadata": {
      "needs_background": "light"
     },
     "output_type": "display_data"
    }
   ],
   "source": [
    "plt.axis('equal')\n",
    "plt.xlim((-10, 10))\n",
    "plt.ylim((-10, 10))"
   ]
  },
  {
   "cell_type": "markdown",
   "metadata": {},
   "source": [
    "**Khởi tạo dữ liệu huấn luyện**"
   ]
  },
  {
   "cell_type": "code",
   "execution_count": 9,
   "metadata": {},
   "outputs": [],
   "source": [
    "n_sample_red = 15\n",
    "n_sample_blue = 15\n",
    "n_sample = n_sample_red + n_sample_blue\n",
    "\n",
    "x_center_red = np.array([[1], [2]])\n",
    "x_center_blue = np.array([[-6], [9]])\n",
    "x_red = x_center_red + np.random.normal(0, 1, size=(2, n_sample_red))\n",
    "x_blue = x_center_blue + np.random.normal(0, 1, size=(2, n_sample_blue))\n",
    "ones = np.ones(n_sample)\n",
    "X = np.vstack((ones, np.hstack((x_red, x_blue))))\n",
    "\n",
    "Y = np.hstack((np.zeros(n_sample_red), np.ones(n_sample_blue)))"
   ]
  },
  {
   "cell_type": "code",
   "execution_count": 10,
   "metadata": {},
   "outputs": [
    {
     "name": "stdout",
     "output_type": "stream",
     "text": [
      "(2, 15)\n",
      "(2, 15)\n",
      "(3, 30)\n",
      "(30,)\n"
     ]
    }
   ],
   "source": [
    "print(x_red.shape)\n",
    "print(x_blue.shape)\n",
    "print(X.shape)\n",
    "print(Y.shape)"
   ]
  },
  {
   "cell_type": "code",
   "execution_count": 5,
   "metadata": {},
   "outputs": [
    {
     "data": {
      "text/plain": [
       "[<matplotlib.lines.Line2D at 0x1dc12cac790>]"
      ]
     },
     "execution_count": 5,
     "metadata": {},
     "output_type": "execute_result"
    },
    {
     "data": {
      "image/png": "[encoded data removed]",
      "text/plain": [
       "<Figure size 432x288 with 1 Axes>"
      ]
     },
     "metadata": {
      "needs_background": "light"
     },
     "output_type": "display_data"
    }
   ],
   "source": [
    "plt.plot(x_red[0, :], x_red[1, :], 'ro')\n",
    "plt.plot(x_blue[0, :], x_blue[1, :], 'bo')"
   ]
  },
  {
   "cell_type": "markdown",
   "metadata": {},
   "source": [
    "**Khởi tạo tham số theta0, theta1, theta2, alpha và epsilon**"
   ]
  },
  {
   "cell_type": "code",
   "execution_count": 11,
   "metadata": {},
   "outputs": [],
   "source": [
    "theta_0 = 2\n",
    "theta_1 = -6\n",
    "theta_2 = 7\n",
    "\n",
    "alpha = 0.001\n",
    "epsilon = 0.0001"
   ]
  },
  {
   "cell_type": "code",
   "execution_count": 12,
   "metadata": {},
   "outputs": [],
   "source": [
    "def sigmoid(x):\n",
    "    return 1/(1 + np.exp(-x))"
   ]
  },
  {
   "cell_type": "markdown",
   "metadata": {},
   "source": [
    "**Lặp<br>\n",
    "Cập nhật tham số<br>\n",
    "Điều kiện dừng**"
   ]
  },
  {
   "cell_type": "code",
   "execution_count": null,
   "metadata": {},
   "outputs": [],
   "source": [
    "while True:\n",
    "    DaoHamTheoTheta0 = \n",
    "    DaoHamTheoTheta1 = \n",
    "    DaoHamTheoTheta2 = \n",
    "    \n",
    "    theta_0 = theta_0 - alpha*DaoHamTheoTheta0\n",
    "    theta_1 = theta_1 - alpha*DaoHamTheoTheta1\n",
    "    theta_2 = theta_2 - alpha*DaoHamTheoTheta2"
   ]
  }
 ],
 "metadata": {
  "kernelspec": {
   "display_name": "Python 3",
   "language": "python",
   "name": "python3"
  },
  "language_info": {
   "codemirror_mode": {
    "name": "ipython",
    "version": 3
   },
   "file_extension": ".py",
   "mimetype": "text/x-python",
   "name": "python",
   "nbconvert_exporter": "python",
   "pygments_lexer": "ipython3",
   "version": "3.8.5"
  }
 },
 "nbformat": 4,
 "nbformat_minor": 4
}
