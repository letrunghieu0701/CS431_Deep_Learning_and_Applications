{
 "cells": [
  {
   "cell_type": "code",
   "execution_count": 1,
   "metadata": {
    "colab": {
     "base_uri": "https://localhost:8080/"
    },
    "executionInfo": {
     "elapsed": 4,
     "status": "ok",
     "timestamp": 1632496601065,
     "user": {
      "displayName": "Hieu Le Trung",
      "photoUrl": "https://lh3.googleusercontent.com/a/default-user=s64",
      "userId": "07970718141756542178"
     },
     "user_tz": -420
    },
    "id": "RKqoX4eoRWGV",
    "outputId": "89c8003d-0677-4086-a123-b3cb77b8f2fb"
   },
   "outputs": [
    {
     "name": "stdout",
     "output_type": "stream",
     "text": [
      "Drive already mounted at /content/drive; to attempt to forcibly remount, call drive.mount(\"/content/drive\", force_remount=True).\n"
     ]
    }
   ],
   "source": [
    "from google.colab import drive\n",
    "drive.mount('/content/drive')"
   ]
  },
  {
   "cell_type": "code",
   "execution_count": 2,
   "metadata": {
    "executionInfo": {
     "elapsed": 2264,
     "status": "ok",
     "timestamp": 1632496603327,
     "user": {
      "displayName": "Hieu Le Trung",
      "photoUrl": "https://lh3.googleusercontent.com/a/default-user=s64",
      "userId": "07970718141756542178"
     },
     "user_tz": -420
    },
    "id": "FxBrqvj_o1nY"
   },
   "outputs": [],
   "source": [
    "# importing modules\n",
    "import numpy as np\n",
    "import pandas as pd\n",
    "import tensorflow as tf\n",
    "import matplotlib.pyplot as plt\n",
    "from sklearn.preprocessing import OneHotEncoder"
   ]
  },
  {
   "cell_type": "markdown",
   "metadata": {
    "id": "Xaiy1Vr4Xamm"
   },
   "source": [
    "Iris Species dataset from GeeksforGeeks</br>\n",
    "https://www.geeksforgeeks.org/ml-logistic-regression-using-tensorflow/"
   ]
  },
  {
   "cell_type": "code",
   "execution_count": 3,
   "metadata": {
    "colab": {
     "base_uri": "https://localhost:8080/"
    },
    "executionInfo": {
     "elapsed": 13,
     "status": "ok",
     "timestamp": 1632496603329,
     "user": {
      "displayName": "Hieu Le Trung",
      "photoUrl": "https://lh3.googleusercontent.com/a/default-user=s64",
      "userId": "07970718141756542178"
     },
     "user_tz": -420
    },
    "id": "t_1rOMuxrRpV",
    "outputId": "44bf9a57-e349-40ff-9de9-ad6f4e854479"
   },
   "outputs": [
    {
     "name": "stdout",
     "output_type": "stream",
     "text": [
      "Data Shape: (100, 4)\n",
      "   0    1    2  3\n",
      "0  0  5.1  3.5  1\n",
      "1  1  4.9  3.0  1\n",
      "2  2  4.7  3.2  1\n",
      "3  3  4.6  3.1  1\n",
      "4  4  5.0  3.6  1\n"
     ]
    }
   ],
   "source": [
    "data = pd.read_csv('/content/drive/MyDrive/Colab_Notebooks/Cac_van_de_chon_loc_trong_CV/Logistic_Regression_with_Tensorflow/dataset.csv', header = None)\n",
    "print(\"Data Shape:\", data.shape)\n",
    "  \n",
    "print(data.head())"
   ]
  },
  {
   "cell_type": "code",
   "execution_count": 4,
   "metadata": {
    "colab": {
     "base_uri": "https://localhost:8080/"
    },
    "executionInfo": {
     "elapsed": 5,
     "status": "ok",
     "timestamp": 1632496603330,
     "user": {
      "displayName": "Hieu Le Trung",
      "photoUrl": "https://lh3.googleusercontent.com/a/default-user=s64",
      "userId": "07970718141756542178"
     },
     "user_tz": -420
    },
    "id": "R78WoDaKo8wC",
    "outputId": "144b1588-dff9-433c-bbed-fb6572bf1a54"
   },
   "outputs": [
    {
     "name": "stdout",
     "output_type": "stream",
     "text": [
      "Shape of Feature Matrix: (100, 2)\n",
      "Shape Label data: (100, 1)\n"
     ]
    }
   ],
   "source": [
    "# Feature Matrix\n",
    "x_train = data.iloc[:, 1:-1].values\n",
    "  \n",
    "# Data labels\n",
    "y_train = data.iloc[:, -1:].values\n",
    "  \n",
    "print(\"Shape of Feature Matrix:\", x_train.shape)\n",
    "print(\"Shape Label data:\", y_train.shape)"
   ]
  },
  {
   "cell_type": "code",
   "execution_count": null,
   "metadata": {
    "id": "Fval4RtJUyGm"
   },
   "outputs": [],
   "source": [
    "model = tf.keras.models.Sequential([\n",
    "    tf.keras.layers.Dense(1, activation='sigmoid')\n",
    "])\n",
    "model.compile(loss='bce')   # loss = Binary ross-entrophy\n",
    "model.fit(x_train, y_train, epochs=50)"
   ]
  },
  {
   "cell_type": "code",
   "execution_count": 10,
   "metadata": {
    "colab": {
     "base_uri": "https://localhost:8080/"
    },
    "executionInfo": {
     "elapsed": 541,
     "status": "ok",
     "timestamp": 1632496971843,
     "user": {
      "displayName": "Hieu Le Trung",
      "photoUrl": "https://lh3.googleusercontent.com/a/default-user=s64",
      "userId": "07970718141756542178"
     },
     "user_tz": -420
    },
    "id": "DwKv7IDqWExT",
    "outputId": "c9933bb1-7fef-4d8a-95b8-2176729c1b46"
   },
   "outputs": [
    {
     "data": {
      "text/plain": [
       "array([[0.50380015]], dtype=float32)"
      ]
     },
     "execution_count": 10,
     "metadata": {},
     "output_type": "execute_result"
    }
   ],
   "source": [
    "model.predict([(7, 2)])"
   ]
  },
  {
   "cell_type": "code",
   "execution_count": null,
   "metadata": {
    "id": "GAPd64NtZiTB"
   },
   "outputs": [],
   "source": []
  }
 ],
 "metadata": {
  "colab": {
   "authorship_tag": "ABX9TyPeAlequjU60iMaEuV8Y7xy",
   "collapsed_sections": [],
   "name": "BT2_Logistic_Regression_with_Tensorflow.ipynb",
   "provenance": []
  },
  "kernelspec": {
   "display_name": "Python 3",
   "language": "python",
   "name": "python3"
  },
  "language_info": {
   "codemirror_mode": {
    "name": "ipython",
    "version": 3
   },
   "file_extension": ".py",
   "mimetype": "text/x-python",
   "name": "python",
   "nbconvert_exporter": "python",
   "pygments_lexer": "ipython3",
   "version": "3.8.5"
  }
 },
 "nbformat": 4,
 "nbformat_minor": 1
}
