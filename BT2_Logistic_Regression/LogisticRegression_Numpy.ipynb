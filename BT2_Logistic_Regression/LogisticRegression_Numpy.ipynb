{
 "cells": [
  {
   "cell_type": "code",
   "execution_count": 2,
   "metadata": {},
   "outputs": [],
   "source": [
    "import numpy as np\n",
    "import matplotlib.pyplot as plt"
   ]
  },
  {
   "cell_type": "markdown",
   "metadata": {},
   "source": [
    "**Khởi tạo dữ liệu huấn luyện**"
   ]
  },
  {
   "cell_type": "code",
   "execution_count": 34,
   "metadata": {},
   "outputs": [],
   "source": [
    "n_sample_red = 50\n",
    "n_sample_blue = 50\n",
    "x_red = np.linspace(start=4, stop=6, num=n_sample_red)\n",
    "x_blue = np.linspace(start=-4, stop=-2, num=n_sample_blue)\n",
    "n_sample = n_sample_red + n_sample_blue\n",
    "x = np.hstack((x_blue, x_red)).astype('float32')\n",
    "\n",
    "noise = np.random.normal(0, 2, n_sample)\n",
    "#    theta1 theta0  theta2\n",
    "y = (-(-7*x + 2)/6 + noise).astype('float32')"
   ]
  },
  {
   "cell_type": "code",
   "execution_count": 35,
   "metadata": {},
   "outputs": [
    {
     "name": "stdout",
     "output_type": "stream",
     "text": [
      "x.shape: (100,) dtype: float32\n",
      "y.shape: (100,) dtype: float32\n"
     ]
    }
   ],
   "source": [
    "print(f\"x.shape: {x.shape} dtype: {x.dtype}\")\n",
    "print(f\"y.shape: {y.shape} dtype: {y.dtype}\")"
   ]
  },
  {
   "cell_type": "code",
   "execution_count": 36,
   "metadata": {},
   "outputs": [
    {
     "data": {
      "text/plain": [
       "[<matplotlib.lines.Line2D at 0x252c4b792e0>]"
      ]
     },
     "execution_count": 36,
     "metadata": {},
     "output_type": "execute_result"
    },
    {
     "data": {
      "image/png": "[encoded data removed]",
      "text/plain": [
       "<Figure size 432x288 with 1 Axes>"
      ]
     },
     "metadata": {
      "needs_background": "light"
     },
     "output_type": "display_data"
    }
   ],
   "source": [
    "plt.plot(x[:n_sample_blue], y[: n_sample_blue], 'bo')\n",
    "plt.plot(x[n_sample_blue:], y[n_sample_blue:], 'ro')"
   ]
  },
  {
   "cell_type": "markdown",
   "metadata": {},
   "source": [
    "**Khởi tạo tham số theta0, theta1, theta2, alpha và epsilon**"
   ]
  },
  {
   "cell_type": "code",
   "execution_count": 37,
   "metadata": {},
   "outputs": [],
   "source": [
    "theta_0 = 1\n",
    "theta_1 = 2\n",
    "theta_2 = 3\n",
    "\n",
    "alpha = 0.001\n",
    "epsilon = 0.0001"
   ]
  },
  {
   "cell_type": "code",
   "execution_count": 38,
   "metadata": {},
   "outputs": [],
   "source": [
    "def sigmoid(x):\n",
    "    return 1/(1 + np.exp(-x))"
   ]
  },
  {
   "cell_type": "markdown",
   "metadata": {},
   "source": [
    "**Lặp<br>\n",
    "Cập nhật tham số<br>\n",
    "Điều kiện dừng**"
   ]
  },
  {
   "cell_type": "code",
   "execution_count": null,
   "metadata": {},
   "outputs": [],
   "source": [
    "while True:\n",
    "    y_theta0 = sigmoid()\n",
    "    DaoHamTheoTheta0 =\n",
    "    DaoHamTheoTheta1 = \n",
    "    DaoHamTheoTheta2 = \n",
    "    \n",
    "    theta_0 = theta_0 - alpha*DaoHamTheoTheta0\n",
    "    theta_1 = theta_1 - alpha*DaoHamTheoTheta1\n",
    "    theta_2 = theta_2 - alpha*DaoHamTheoTheta2"
   ]
  }
 ],
 "metadata": {
  "kernelspec": {
   "display_name": "Python 3",
   "language": "python",
   "name": "python3"
  },
  "language_info": {
   "codemirror_mode": {
    "name": "ipython",
    "version": 3
   },
   "file_extension": ".py",
   "mimetype": "text/x-python",
   "name": "python",
   "nbconvert_exporter": "python",
   "pygments_lexer": "ipython3",
   "version": "3.8.5"
  }
 },
 "nbformat": 4,
 "nbformat_minor": 4
}
